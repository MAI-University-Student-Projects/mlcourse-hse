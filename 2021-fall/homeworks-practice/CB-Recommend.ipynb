{
 "cells": [
  {
   "cell_type": "markdown",
   "metadata": {
    "id": "DjRrMWvZfb4N"
   },
   "source": [
    "# ДЗ 2. Content-based рекомендация\n",
    "\n",
    "1. Приведите данные датасета `ratings` к виду датафрейма со строками-пользователями, столбцами-книгами и рейтингами на пересечении. Будем дополнять информацию о пользователе на основе прочитанных пользователем книг\n",
    "\n",
    "(проверка: размерность датасета должна быть (53424, 10000) )\n",
    "\n",
    "2. Создайте векторы, характеризующие пользоваталей (для content-based лучше это делать по дополнительным данным о пользователях, но так как тут у нас их нет - сделаем вектора-признаки (размерностью 100) на основе проставленных книгам оценок) \n",
    "\n",
    "Делать будем с помощью метода понижения размерности PCA до 100.\n",
    "\n",
    "3. Объедините три датасета:  \n",
    "    * ratings\n",
    "    * pca_user_vectors(векторы-признаки для каждого пользователя)\n",
    "    * tf-idf на основе `books['corpus']` для каждой книги\n",
    "    \n",
    "В итоге у вас должен получиться датафрейм с вектором пользователя, вектором книги и таргет-рейтинг.\n",
    "\n",
    "4. Разбейте на train/valid set\n",
    "\n",
    "5. Обучите любую модель машинного обучения (для задачи регрессии (линейную или ансамбль деревьев)), сделайте прогноз и посчитайте метрики RMSE, MSE\n",
    "6. Добавьте другие признаки по книгам из `books`\n",
    "\n",
    "7. Сделайте тестовый датасет для пользователей и книг, которые находятся в датасете to-read:\n",
    "    * pca_user_vectors(векторы-признаки для каждого пользователя)\n",
    "    * tf-idf на основе `books['corpus']` для каждой книги\n",
    "8. Сделайте для них прогноз"
   ]
  },
  {
   "cell_type": "markdown",
   "metadata": {
    "id": "9EGlSz9PhlAz"
   },
   "source": [
    "## Загрузка данных из семинара"
   ]
  },
  {
   "cell_type": "code",
   "execution_count": null,
   "metadata": {
    "id": "Q0LwrKDVqnIQ"
   },
   "outputs": [],
   "source": [
    "!wget -O \"input.zip\" \"https://www.dropbox.com/s/55ognewt1g3l09k/input.zip?dl=1\" -q && unzip -o -q \"input.zip\" && rm \"input.zip\" && rm -r \"__MACOSX\""
   ]
  },
  {
   "cell_type": "code",
   "execution_count": null,
   "metadata": {
    "id": "UVTlovvrgJeQ"
   },
   "outputs": [],
   "source": [
    "import numpy as np\n",
    "import pandas as pd\n",
    "\n",
    "from scipy.sparse import csr_matrix, save_npz, load_npz\n",
    "\n",
    "from sklearn.decomposition import IncrementalPCA\n",
    "from sklearn.feature_extraction.text import TfidfVectorizer"
   ]
  },
  {
   "cell_type": "code",
   "execution_count": null,
   "metadata": {
    "colab": {
     "base_uri": "https://localhost:8080/",
     "height": 594
    },
    "executionInfo": {
     "elapsed": 544,
     "status": "ok",
     "timestamp": 1646241550401,
     "user": {
      "displayName": "Slav Petrovich",
      "photoUrl": "https://lh3.googleusercontent.com/a/default-user=s64",
      "userId": "15467771659501997370"
     },
     "user_tz": -180
    },
    "id": "qekrUsTehKlM",
    "outputId": "8d9253c6-338f-4472-e16f-650b9613d1be"
   },
   "outputs": [
    {
     "name": "stdout",
     "output_type": "stream",
     "text": [
      "(10000, 23) True False\n",
      "Index(['id', 'book_id', 'best_book_id', 'work_id', 'books_count', 'isbn',\n",
      "       'isbn13', 'authors', 'original_publication_year', 'original_title',\n",
      "       'title', 'language_code', 'average_rating', 'ratings_count',\n",
      "       'work_ratings_count', 'work_text_reviews_count', 'ratings_1',\n",
      "       'ratings_2', 'ratings_3', 'ratings_4', 'ratings_5', 'image_url',\n",
      "       'small_image_url'],\n",
      "      dtype='object')\n"
     ]
    },
    {
     "data": {
      "text/html": [
       "\n",
       "  <div id=\"df-136d7ba9-73f5-4961-96ad-bd72ff32cfe4\">\n",
       "    <div class=\"colab-df-container\">\n",
       "      <div>\n",
       "<style scoped>\n",
       "    .dataframe tbody tr th:only-of-type {\n",
       "        vertical-align: middle;\n",
       "    }\n",
       "\n",
       "    .dataframe tbody tr th {\n",
       "        vertical-align: top;\n",
       "    }\n",
       "\n",
       "    .dataframe thead th {\n",
       "        text-align: right;\n",
       "    }\n",
       "</style>\n",
       "<table border=\"1\" class=\"dataframe\">\n",
       "  <thead>\n",
       "    <tr style=\"text-align: right;\">\n",
       "      <th></th>\n",
       "      <th>id</th>\n",
       "      <th>book_id</th>\n",
       "      <th>best_book_id</th>\n",
       "      <th>work_id</th>\n",
       "      <th>books_count</th>\n",
       "      <th>isbn</th>\n",
       "      <th>isbn13</th>\n",
       "      <th>authors</th>\n",
       "      <th>original_publication_year</th>\n",
       "      <th>original_title</th>\n",
       "      <th>title</th>\n",
       "      <th>language_code</th>\n",
       "      <th>average_rating</th>\n",
       "      <th>ratings_count</th>\n",
       "      <th>work_ratings_count</th>\n",
       "      <th>work_text_reviews_count</th>\n",
       "      <th>ratings_1</th>\n",
       "      <th>ratings_2</th>\n",
       "      <th>ratings_3</th>\n",
       "      <th>ratings_4</th>\n",
       "      <th>ratings_5</th>\n",
       "      <th>image_url</th>\n",
       "      <th>small_image_url</th>\n",
       "    </tr>\n",
       "  </thead>\n",
       "  <tbody>\n",
       "    <tr>\n",
       "      <th>8443</th>\n",
       "      <td>8444</td>\n",
       "      <td>4946005</td>\n",
       "      <td>4946005</td>\n",
       "      <td>21899169</td>\n",
       "      <td>49</td>\n",
       "      <td>553807145</td>\n",
       "      <td>9.780554e+12</td>\n",
       "      <td>Dean Koontz</td>\n",
       "      <td>2009.0</td>\n",
       "      <td>Relentless</td>\n",
       "      <td>Relentless</td>\n",
       "      <td>en-US</td>\n",
       "      <td>3.71</td>\n",
       "      <td>12416</td>\n",
       "      <td>13662</td>\n",
       "      <td>1223</td>\n",
       "      <td>394</td>\n",
       "      <td>1016</td>\n",
       "      <td>4015</td>\n",
       "      <td>4940</td>\n",
       "      <td>3297</td>\n",
       "      <td>https://images.gr-assets.com/books/1320399029m...</td>\n",
       "      <td>https://images.gr-assets.com/books/1320399029s...</td>\n",
       "    </tr>\n",
       "    <tr>\n",
       "      <th>6849</th>\n",
       "      <td>6850</td>\n",
       "      <td>781498</td>\n",
       "      <td>781498</td>\n",
       "      <td>767519</td>\n",
       "      <td>18</td>\n",
       "      <td>140546235</td>\n",
       "      <td>9.780141e+12</td>\n",
       "      <td>Trinka Hakes Noble, Steven Kellogg</td>\n",
       "      <td>1980.0</td>\n",
       "      <td>The Day Jimmy's Boa Ate the Wash</td>\n",
       "      <td>The Day Jimmy's Boa Ate the Wash</td>\n",
       "      <td>NaN</td>\n",
       "      <td>4.16</td>\n",
       "      <td>16875</td>\n",
       "      <td>17024</td>\n",
       "      <td>215</td>\n",
       "      <td>187</td>\n",
       "      <td>603</td>\n",
       "      <td>3333</td>\n",
       "      <td>5042</td>\n",
       "      <td>7859</td>\n",
       "      <td>https://s.gr-assets.com/assets/nophoto/book/11...</td>\n",
       "      <td>https://s.gr-assets.com/assets/nophoto/book/50...</td>\n",
       "    </tr>\n",
       "    <tr>\n",
       "      <th>4544</th>\n",
       "      <td>4545</td>\n",
       "      <td>13202092</td>\n",
       "      <td>13202092</td>\n",
       "      <td>18385042</td>\n",
       "      <td>34</td>\n",
       "      <td>547569653</td>\n",
       "      <td>9.780548e+12</td>\n",
       "      <td>Scott Jurek, Steve Friedman</td>\n",
       "      <td>2012.0</td>\n",
       "      <td>Eat And Run</td>\n",
       "      <td>Eat and Run: My Unlikely Journey to Ultramarat...</td>\n",
       "      <td>en-US</td>\n",
       "      <td>3.95</td>\n",
       "      <td>17376</td>\n",
       "      <td>20086</td>\n",
       "      <td>1622</td>\n",
       "      <td>284</td>\n",
       "      <td>857</td>\n",
       "      <td>4776</td>\n",
       "      <td>7873</td>\n",
       "      <td>6296</td>\n",
       "      <td>https://images.gr-assets.com/books/1344746039m...</td>\n",
       "      <td>https://images.gr-assets.com/books/1344746039s...</td>\n",
       "    </tr>\n",
       "    <tr>\n",
       "      <th>5157</th>\n",
       "      <td>5158</td>\n",
       "      <td>59819</td>\n",
       "      <td>59819</td>\n",
       "      <td>1961184</td>\n",
       "      <td>56</td>\n",
       "      <td>515128546</td>\n",
       "      <td>9.780515e+12</td>\n",
       "      <td>Nora Roberts</td>\n",
       "      <td>1999.0</td>\n",
       "      <td>Tears of the Moon</td>\n",
       "      <td>Tears of the Moon (Gallaghers of Ardmore / Iri...</td>\n",
       "      <td>en-US</td>\n",
       "      <td>4.19</td>\n",
       "      <td>24613</td>\n",
       "      <td>26184</td>\n",
       "      <td>581</td>\n",
       "      <td>98</td>\n",
       "      <td>652</td>\n",
       "      <td>4882</td>\n",
       "      <td>9226</td>\n",
       "      <td>11326</td>\n",
       "      <td>https://s.gr-assets.com/assets/nophoto/book/11...</td>\n",
       "      <td>https://s.gr-assets.com/assets/nophoto/book/50...</td>\n",
       "    </tr>\n",
       "  </tbody>\n",
       "</table>\n",
       "</div>\n",
       "      <button class=\"colab-df-convert\" onclick=\"convertToInteractive('df-136d7ba9-73f5-4961-96ad-bd72ff32cfe4')\"\n",
       "              title=\"Convert this dataframe to an interactive table.\"\n",
       "              style=\"display:none;\">\n",
       "        \n",
       "  <svg xmlns=\"http://www.w3.org/2000/svg\" height=\"24px\"viewBox=\"0 0 24 24\"\n",
       "       width=\"24px\">\n",
       "    <path d=\"M0 0h24v24H0V0z\" fill=\"none\"/>\n",
       "    <path d=\"M18.56 5.44l.94 2.06.94-2.06 2.06-.94-2.06-.94-.94-2.06-.94 2.06-2.06.94zm-11 1L8.5 8.5l.94-2.06 2.06-.94-2.06-.94L8.5 2.5l-.94 2.06-2.06.94zm10 10l.94 2.06.94-2.06 2.06-.94-2.06-.94-.94-2.06-.94 2.06-2.06.94z\"/><path d=\"M17.41 7.96l-1.37-1.37c-.4-.4-.92-.59-1.43-.59-.52 0-1.04.2-1.43.59L10.3 9.45l-7.72 7.72c-.78.78-.78 2.05 0 2.83L4 21.41c.39.39.9.59 1.41.59.51 0 1.02-.2 1.41-.59l7.78-7.78 2.81-2.81c.8-.78.8-2.07 0-2.86zM5.41 20L4 18.59l7.72-7.72 1.47 1.35L5.41 20z\"/>\n",
       "  </svg>\n",
       "      </button>\n",
       "      \n",
       "  <style>\n",
       "    .colab-df-container {\n",
       "      display:flex;\n",
       "      flex-wrap:wrap;\n",
       "      gap: 12px;\n",
       "    }\n",
       "\n",
       "    .colab-df-convert {\n",
       "      background-color: #E8F0FE;\n",
       "      border: none;\n",
       "      border-radius: 50%;\n",
       "      cursor: pointer;\n",
       "      display: none;\n",
       "      fill: #1967D2;\n",
       "      height: 32px;\n",
       "      padding: 0 0 0 0;\n",
       "      width: 32px;\n",
       "    }\n",
       "\n",
       "    .colab-df-convert:hover {\n",
       "      background-color: #E2EBFA;\n",
       "      box-shadow: 0px 1px 2px rgba(60, 64, 67, 0.3), 0px 1px 3px 1px rgba(60, 64, 67, 0.15);\n",
       "      fill: #174EA6;\n",
       "    }\n",
       "\n",
       "    [theme=dark] .colab-df-convert {\n",
       "      background-color: #3B4455;\n",
       "      fill: #D2E3FC;\n",
       "    }\n",
       "\n",
       "    [theme=dark] .colab-df-convert:hover {\n",
       "      background-color: #434B5C;\n",
       "      box-shadow: 0px 1px 3px 1px rgba(0, 0, 0, 0.15);\n",
       "      filter: drop-shadow(0px 1px 2px rgba(0, 0, 0, 0.3));\n",
       "      fill: #FFFFFF;\n",
       "    }\n",
       "  </style>\n",
       "\n",
       "      <script>\n",
       "        const buttonEl =\n",
       "          document.querySelector('#df-136d7ba9-73f5-4961-96ad-bd72ff32cfe4 button.colab-df-convert');\n",
       "        buttonEl.style.display =\n",
       "          google.colab.kernel.accessAllowed ? 'block' : 'none';\n",
       "\n",
       "        async function convertToInteractive(key) {\n",
       "          const element = document.querySelector('#df-136d7ba9-73f5-4961-96ad-bd72ff32cfe4');\n",
       "          const dataTable =\n",
       "            await google.colab.kernel.invokeFunction('convertToInteractive',\n",
       "                                                     [key], {});\n",
       "          if (!dataTable) return;\n",
       "\n",
       "          const docLinkHtml = 'Like what you see? Visit the ' +\n",
       "            '<a target=\"_blank\" href=https://colab.research.google.com/notebooks/data_table.ipynb>data table notebook</a>'\n",
       "            + ' to learn more about interactive tables.';\n",
       "          element.innerHTML = '';\n",
       "          dataTable['output_type'] = 'display_data';\n",
       "          await google.colab.output.renderOutput(dataTable, element);\n",
       "          const docLink = document.createElement('div');\n",
       "          docLink.innerHTML = docLinkHtml;\n",
       "          element.appendChild(docLink);\n",
       "        }\n",
       "      </script>\n",
       "    </div>\n",
       "  </div>\n",
       "  "
      ],
      "text/plain": [
       "        id  ...                                    small_image_url\n",
       "8443  8444  ...  https://images.gr-assets.com/books/1320399029s...\n",
       "6849  6850  ...  https://s.gr-assets.com/assets/nophoto/book/50...\n",
       "4544  4545  ...  https://images.gr-assets.com/books/1344746039s...\n",
       "5157  5158  ...  https://s.gr-assets.com/assets/nophoto/book/50...\n",
       "\n",
       "[4 rows x 23 columns]"
      ]
     },
     "execution_count": 3,
     "metadata": {},
     "output_type": "execute_result"
    }
   ],
   "source": [
    "# dataframe of 'goodreads' books-shop\n",
    "books = pd.read_csv('input/books.csv', encoding = \"ISO-8859-1\")\n",
    "print(books.shape, books.isna().values.any(), books.duplicated().values.any())\n",
    "print(books.columns)\n",
    "books.sample(4)"
   ]
  },
  {
   "cell_type": "code",
   "execution_count": null,
   "metadata": {
    "colab": {
     "base_uri": "https://localhost:8080/"
    },
    "executionInfo": {
     "elapsed": 21,
     "status": "ok",
     "timestamp": 1646241550404,
     "user": {
      "displayName": "Slav Petrovich",
      "photoUrl": "https://lh3.googleusercontent.com/a/default-user=s64",
      "userId": "15467771659501997370"
     },
     "user_tz": -180
    },
    "id": "l5usifdQj1XV",
    "outputId": "4ec67d98-89d4-4c74-f0b5-a3f5aad1dff3"
   },
   "outputs": [
    {
     "data": {
      "text/plain": [
       "id                              0\n",
       "book_id                         0\n",
       "best_book_id                    0\n",
       "work_id                         0\n",
       "books_count                     0\n",
       "isbn                          700\n",
       "isbn13                        585\n",
       "authors                         0\n",
       "original_publication_year      21\n",
       "original_title                585\n",
       "title                           0\n",
       "language_code                1084\n",
       "average_rating                  0\n",
       "ratings_count                   0\n",
       "work_ratings_count              0\n",
       "work_text_reviews_count         0\n",
       "ratings_1                       0\n",
       "ratings_2                       0\n",
       "ratings_3                       0\n",
       "ratings_4                       0\n",
       "ratings_5                       0\n",
       "image_url                       0\n",
       "small_image_url                 0\n",
       "dtype: int64"
      ]
     },
     "execution_count": 4,
     "metadata": {},
     "output_type": "execute_result"
    }
   ],
   "source": [
    "books.isna().sum()"
   ]
  },
  {
   "cell_type": "code",
   "execution_count": null,
   "metadata": {
    "id": "mkbX52Fmk26m"
   },
   "outputs": [],
   "source": [
    "# drop books without any publication id (isbn, isbn13) or unknown publication year\n",
    "books.dropna(axis=0, subset=['isbn', 'isbn13'], how='all', inplace=True)\n",
    "books.dropna(axis=0, subset=['original_publication_year'], inplace=True)\n",
    "\n",
    "books['language_code'].fillna(value='Unknown', inplace=True)\n",
    "books['original_title'].fillna(value=books['title'], inplace=True)"
   ]
  },
  {
   "cell_type": "code",
   "execution_count": null,
   "metadata": {
    "colab": {
     "base_uri": "https://localhost:8080/",
     "height": 207
    },
    "executionInfo": {
     "elapsed": 1179,
     "status": "ok",
     "timestamp": 1646241551574,
     "user": {
      "displayName": "Slav Petrovich",
      "photoUrl": "https://lh3.googleusercontent.com/a/default-user=s64",
      "userId": "15467771659501997370"
     },
     "user_tz": -180
    },
    "id": "GjXy4N1FhNNo",
    "outputId": "df44becf-47c9-4be6-dbc4-8edba649d696"
   },
   "outputs": [
    {
     "name": "stdout",
     "output_type": "stream",
     "text": [
      "(981756, 3) False True\n",
      "Index(['book_id', 'user_id', 'rating'], dtype='object')\n"
     ]
    },
    {
     "data": {
      "text/html": [
       "\n",
       "  <div id=\"df-226fd636-7841-4e79-b602-ea27b569ffdd\">\n",
       "    <div class=\"colab-df-container\">\n",
       "      <div>\n",
       "<style scoped>\n",
       "    .dataframe tbody tr th:only-of-type {\n",
       "        vertical-align: middle;\n",
       "    }\n",
       "\n",
       "    .dataframe tbody tr th {\n",
       "        vertical-align: top;\n",
       "    }\n",
       "\n",
       "    .dataframe thead th {\n",
       "        text-align: right;\n",
       "    }\n",
       "</style>\n",
       "<table border=\"1\" class=\"dataframe\">\n",
       "  <thead>\n",
       "    <tr style=\"text-align: right;\">\n",
       "      <th></th>\n",
       "      <th>book_id</th>\n",
       "      <th>user_id</th>\n",
       "      <th>rating</th>\n",
       "    </tr>\n",
       "  </thead>\n",
       "  <tbody>\n",
       "    <tr>\n",
       "      <th>538177</th>\n",
       "      <td>5400</td>\n",
       "      <td>1053</td>\n",
       "      <td>5</td>\n",
       "    </tr>\n",
       "    <tr>\n",
       "      <th>289180</th>\n",
       "      <td>2894</td>\n",
       "      <td>52673</td>\n",
       "      <td>5</td>\n",
       "    </tr>\n",
       "    <tr>\n",
       "      <th>208987</th>\n",
       "      <td>2092</td>\n",
       "      <td>10998</td>\n",
       "      <td>4</td>\n",
       "    </tr>\n",
       "    <tr>\n",
       "      <th>598228</th>\n",
       "      <td>6006</td>\n",
       "      <td>49755</td>\n",
       "      <td>5</td>\n",
       "    </tr>\n",
       "  </tbody>\n",
       "</table>\n",
       "</div>\n",
       "      <button class=\"colab-df-convert\" onclick=\"convertToInteractive('df-226fd636-7841-4e79-b602-ea27b569ffdd')\"\n",
       "              title=\"Convert this dataframe to an interactive table.\"\n",
       "              style=\"display:none;\">\n",
       "        \n",
       "  <svg xmlns=\"http://www.w3.org/2000/svg\" height=\"24px\"viewBox=\"0 0 24 24\"\n",
       "       width=\"24px\">\n",
       "    <path d=\"M0 0h24v24H0V0z\" fill=\"none\"/>\n",
       "    <path d=\"M18.56 5.44l.94 2.06.94-2.06 2.06-.94-2.06-.94-.94-2.06-.94 2.06-2.06.94zm-11 1L8.5 8.5l.94-2.06 2.06-.94-2.06-.94L8.5 2.5l-.94 2.06-2.06.94zm10 10l.94 2.06.94-2.06 2.06-.94-2.06-.94-.94-2.06-.94 2.06-2.06.94z\"/><path d=\"M17.41 7.96l-1.37-1.37c-.4-.4-.92-.59-1.43-.59-.52 0-1.04.2-1.43.59L10.3 9.45l-7.72 7.72c-.78.78-.78 2.05 0 2.83L4 21.41c.39.39.9.59 1.41.59.51 0 1.02-.2 1.41-.59l7.78-7.78 2.81-2.81c.8-.78.8-2.07 0-2.86zM5.41 20L4 18.59l7.72-7.72 1.47 1.35L5.41 20z\"/>\n",
       "  </svg>\n",
       "      </button>\n",
       "      \n",
       "  <style>\n",
       "    .colab-df-container {\n",
       "      display:flex;\n",
       "      flex-wrap:wrap;\n",
       "      gap: 12px;\n",
       "    }\n",
       "\n",
       "    .colab-df-convert {\n",
       "      background-color: #E8F0FE;\n",
       "      border: none;\n",
       "      border-radius: 50%;\n",
       "      cursor: pointer;\n",
       "      display: none;\n",
       "      fill: #1967D2;\n",
       "      height: 32px;\n",
       "      padding: 0 0 0 0;\n",
       "      width: 32px;\n",
       "    }\n",
       "\n",
       "    .colab-df-convert:hover {\n",
       "      background-color: #E2EBFA;\n",
       "      box-shadow: 0px 1px 2px rgba(60, 64, 67, 0.3), 0px 1px 3px 1px rgba(60, 64, 67, 0.15);\n",
       "      fill: #174EA6;\n",
       "    }\n",
       "\n",
       "    [theme=dark] .colab-df-convert {\n",
       "      background-color: #3B4455;\n",
       "      fill: #D2E3FC;\n",
       "    }\n",
       "\n",
       "    [theme=dark] .colab-df-convert:hover {\n",
       "      background-color: #434B5C;\n",
       "      box-shadow: 0px 1px 3px 1px rgba(0, 0, 0, 0.15);\n",
       "      filter: drop-shadow(0px 1px 2px rgba(0, 0, 0, 0.3));\n",
       "      fill: #FFFFFF;\n",
       "    }\n",
       "  </style>\n",
       "\n",
       "      <script>\n",
       "        const buttonEl =\n",
       "          document.querySelector('#df-226fd636-7841-4e79-b602-ea27b569ffdd button.colab-df-convert');\n",
       "        buttonEl.style.display =\n",
       "          google.colab.kernel.accessAllowed ? 'block' : 'none';\n",
       "\n",
       "        async function convertToInteractive(key) {\n",
       "          const element = document.querySelector('#df-226fd636-7841-4e79-b602-ea27b569ffdd');\n",
       "          const dataTable =\n",
       "            await google.colab.kernel.invokeFunction('convertToInteractive',\n",
       "                                                     [key], {});\n",
       "          if (!dataTable) return;\n",
       "\n",
       "          const docLinkHtml = 'Like what you see? Visit the ' +\n",
       "            '<a target=\"_blank\" href=https://colab.research.google.com/notebooks/data_table.ipynb>data table notebook</a>'\n",
       "            + ' to learn more about interactive tables.';\n",
       "          element.innerHTML = '';\n",
       "          dataTable['output_type'] = 'display_data';\n",
       "          await google.colab.output.renderOutput(dataTable, element);\n",
       "          const docLink = document.createElement('div');\n",
       "          docLink.innerHTML = docLinkHtml;\n",
       "          element.appendChild(docLink);\n",
       "        }\n",
       "      </script>\n",
       "    </div>\n",
       "  </div>\n",
       "  "
      ],
      "text/plain": [
       "        book_id  user_id  rating\n",
       "538177     5400     1053       5\n",
       "289180     2894    52673       5\n",
       "208987     2092    10998       4\n",
       "598228     6006    49755       5"
      ]
     },
     "execution_count": 6,
     "metadata": {},
     "output_type": "execute_result"
    }
   ],
   "source": [
    "ratings = pd.read_csv('input/ratings.csv', encoding = \"ISO-8859-1\")\n",
    "print(ratings.shape, ratings.isna().values.any(), ratings.duplicated().values.any())\n",
    "print(ratings.columns)\n",
    "ratings.sample(4)"
   ]
  },
  {
   "cell_type": "code",
   "execution_count": null,
   "metadata": {
    "id": "XE6XevbClzM8"
   },
   "outputs": [],
   "source": [
    "ratings.drop_duplicates(keep='first', inplace=True)"
   ]
  },
  {
   "cell_type": "code",
   "execution_count": null,
   "metadata": {
    "colab": {
     "base_uri": "https://localhost:8080/",
     "height": 207
    },
    "executionInfo": {
     "elapsed": 1857,
     "status": "ok",
     "timestamp": 1646241553701,
     "user": {
      "displayName": "Slav Petrovich",
      "photoUrl": "https://lh3.googleusercontent.com/a/default-user=s64",
      "userId": "15467771659501997370"
     },
     "user_tz": -180
    },
    "id": "fn1aCS4ihgm5",
    "outputId": "a7034473-284c-4382-df06-3f0d810b28d8"
   },
   "outputs": [
    {
     "name": "stdout",
     "output_type": "stream",
     "text": [
      "(999912, 3) False True\n",
      "Index(['goodreads_book_id', 'tag_id', 'count'], dtype='object')\n"
     ]
    },
    {
     "data": {
      "text/html": [
       "\n",
       "  <div id=\"df-09293fea-4716-4e4f-bb32-0bda8b6a42f4\">\n",
       "    <div class=\"colab-df-container\">\n",
       "      <div>\n",
       "<style scoped>\n",
       "    .dataframe tbody tr th:only-of-type {\n",
       "        vertical-align: middle;\n",
       "    }\n",
       "\n",
       "    .dataframe tbody tr th {\n",
       "        vertical-align: top;\n",
       "    }\n",
       "\n",
       "    .dataframe thead th {\n",
       "        text-align: right;\n",
       "    }\n",
       "</style>\n",
       "<table border=\"1\" class=\"dataframe\">\n",
       "  <thead>\n",
       "    <tr style=\"text-align: right;\">\n",
       "      <th></th>\n",
       "      <th>goodreads_book_id</th>\n",
       "      <th>tag_id</th>\n",
       "      <th>count</th>\n",
       "    </tr>\n",
       "  </thead>\n",
       "  <tbody>\n",
       "    <tr>\n",
       "      <th>553097</th>\n",
       "      <td>769712</td>\n",
       "      <td>8717</td>\n",
       "      <td>330</td>\n",
       "    </tr>\n",
       "    <tr>\n",
       "      <th>820804</th>\n",
       "      <td>13152668</td>\n",
       "      <td>9920</td>\n",
       "      <td>10</td>\n",
       "    </tr>\n",
       "    <tr>\n",
       "      <th>295855</th>\n",
       "      <td>70509</td>\n",
       "      <td>617</td>\n",
       "      <td>5</td>\n",
       "    </tr>\n",
       "    <tr>\n",
       "      <th>213676</th>\n",
       "      <td>34506</td>\n",
       "      <td>27401</td>\n",
       "      <td>25</td>\n",
       "    </tr>\n",
       "  </tbody>\n",
       "</table>\n",
       "</div>\n",
       "      <button class=\"colab-df-convert\" onclick=\"convertToInteractive('df-09293fea-4716-4e4f-bb32-0bda8b6a42f4')\"\n",
       "              title=\"Convert this dataframe to an interactive table.\"\n",
       "              style=\"display:none;\">\n",
       "        \n",
       "  <svg xmlns=\"http://www.w3.org/2000/svg\" height=\"24px\"viewBox=\"0 0 24 24\"\n",
       "       width=\"24px\">\n",
       "    <path d=\"M0 0h24v24H0V0z\" fill=\"none\"/>\n",
       "    <path d=\"M18.56 5.44l.94 2.06.94-2.06 2.06-.94-2.06-.94-.94-2.06-.94 2.06-2.06.94zm-11 1L8.5 8.5l.94-2.06 2.06-.94-2.06-.94L8.5 2.5l-.94 2.06-2.06.94zm10 10l.94 2.06.94-2.06 2.06-.94-2.06-.94-.94-2.06-.94 2.06-2.06.94z\"/><path d=\"M17.41 7.96l-1.37-1.37c-.4-.4-.92-.59-1.43-.59-.52 0-1.04.2-1.43.59L10.3 9.45l-7.72 7.72c-.78.78-.78 2.05 0 2.83L4 21.41c.39.39.9.59 1.41.59.51 0 1.02-.2 1.41-.59l7.78-7.78 2.81-2.81c.8-.78.8-2.07 0-2.86zM5.41 20L4 18.59l7.72-7.72 1.47 1.35L5.41 20z\"/>\n",
       "  </svg>\n",
       "      </button>\n",
       "      \n",
       "  <style>\n",
       "    .colab-df-container {\n",
       "      display:flex;\n",
       "      flex-wrap:wrap;\n",
       "      gap: 12px;\n",
       "    }\n",
       "\n",
       "    .colab-df-convert {\n",
       "      background-color: #E8F0FE;\n",
       "      border: none;\n",
       "      border-radius: 50%;\n",
       "      cursor: pointer;\n",
       "      display: none;\n",
       "      fill: #1967D2;\n",
       "      height: 32px;\n",
       "      padding: 0 0 0 0;\n",
       "      width: 32px;\n",
       "    }\n",
       "\n",
       "    .colab-df-convert:hover {\n",
       "      background-color: #E2EBFA;\n",
       "      box-shadow: 0px 1px 2px rgba(60, 64, 67, 0.3), 0px 1px 3px 1px rgba(60, 64, 67, 0.15);\n",
       "      fill: #174EA6;\n",
       "    }\n",
       "\n",
       "    [theme=dark] .colab-df-convert {\n",
       "      background-color: #3B4455;\n",
       "      fill: #D2E3FC;\n",
       "    }\n",
       "\n",
       "    [theme=dark] .colab-df-convert:hover {\n",
       "      background-color: #434B5C;\n",
       "      box-shadow: 0px 1px 3px 1px rgba(0, 0, 0, 0.15);\n",
       "      filter: drop-shadow(0px 1px 2px rgba(0, 0, 0, 0.3));\n",
       "      fill: #FFFFFF;\n",
       "    }\n",
       "  </style>\n",
       "\n",
       "      <script>\n",
       "        const buttonEl =\n",
       "          document.querySelector('#df-09293fea-4716-4e4f-bb32-0bda8b6a42f4 button.colab-df-convert');\n",
       "        buttonEl.style.display =\n",
       "          google.colab.kernel.accessAllowed ? 'block' : 'none';\n",
       "\n",
       "        async function convertToInteractive(key) {\n",
       "          const element = document.querySelector('#df-09293fea-4716-4e4f-bb32-0bda8b6a42f4');\n",
       "          const dataTable =\n",
       "            await google.colab.kernel.invokeFunction('convertToInteractive',\n",
       "                                                     [key], {});\n",
       "          if (!dataTable) return;\n",
       "\n",
       "          const docLinkHtml = 'Like what you see? Visit the ' +\n",
       "            '<a target=\"_blank\" href=https://colab.research.google.com/notebooks/data_table.ipynb>data table notebook</a>'\n",
       "            + ' to learn more about interactive tables.';\n",
       "          element.innerHTML = '';\n",
       "          dataTable['output_type'] = 'display_data';\n",
       "          await google.colab.output.renderOutput(dataTable, element);\n",
       "          const docLink = document.createElement('div');\n",
       "          docLink.innerHTML = docLinkHtml;\n",
       "          element.appendChild(docLink);\n",
       "        }\n",
       "      </script>\n",
       "    </div>\n",
       "  </div>\n",
       "  "
      ],
      "text/plain": [
       "        goodreads_book_id  tag_id  count\n",
       "553097             769712    8717    330\n",
       "820804           13152668    9920     10\n",
       "295855              70509     617      5\n",
       "213676              34506   27401     25"
      ]
     },
     "execution_count": 8,
     "metadata": {},
     "output_type": "execute_result"
    }
   ],
   "source": [
    "book_tags = pd.read_csv('input/book_tags.csv', encoding = \"ISO-8859-1\")\n",
    "print(book_tags.shape, book_tags.isna().values.any(), book_tags.duplicated().values.any())\n",
    "print(book_tags.columns)\n",
    "book_tags.sample(4)\n",
    "# count probably number of people who set those tags on books"
   ]
  },
  {
   "cell_type": "code",
   "execution_count": null,
   "metadata": {
    "id": "hYxCjngSmY8C"
   },
   "outputs": [],
   "source": [
    "book_tags.drop_duplicates(subset=['goodreads_book_id', 'tag_id'], keep='first', inplace=True)"
   ]
  },
  {
   "cell_type": "code",
   "execution_count": null,
   "metadata": {
    "colab": {
     "base_uri": "https://localhost:8080/",
     "height": 207
    },
    "executionInfo": {
     "elapsed": 372,
     "status": "ok",
     "timestamp": 1646241554066,
     "user": {
      "displayName": "Slav Petrovich",
      "photoUrl": "https://lh3.googleusercontent.com/a/default-user=s64",
      "userId": "15467771659501997370"
     },
     "user_tz": -180
    },
    "id": "gXzf2LySsViX",
    "outputId": "61cf1252-de40-4d1d-d8c5-1e9536fa6517"
   },
   "outputs": [
    {
     "name": "stdout",
     "output_type": "stream",
     "text": [
      "(34252, 2) False False\n",
      "Index(['tag_id', 'tag_name'], dtype='object')\n"
     ]
    },
    {
     "data": {
      "text/html": [
       "\n",
       "  <div id=\"df-1da53737-4180-491e-8a1f-f4ca1d6217c7\">\n",
       "    <div class=\"colab-df-container\">\n",
       "      <div>\n",
       "<style scoped>\n",
       "    .dataframe tbody tr th:only-of-type {\n",
       "        vertical-align: middle;\n",
       "    }\n",
       "\n",
       "    .dataframe tbody tr th {\n",
       "        vertical-align: top;\n",
       "    }\n",
       "\n",
       "    .dataframe thead th {\n",
       "        text-align: right;\n",
       "    }\n",
       "</style>\n",
       "<table border=\"1\" class=\"dataframe\">\n",
       "  <thead>\n",
       "    <tr style=\"text-align: right;\">\n",
       "      <th></th>\n",
       "      <th>tag_id</th>\n",
       "      <th>tag_name</th>\n",
       "    </tr>\n",
       "  </thead>\n",
       "  <tbody>\n",
       "    <tr>\n",
       "      <th>12550</th>\n",
       "      <td>12550</td>\n",
       "      <td>freemasons</td>\n",
       "    </tr>\n",
       "    <tr>\n",
       "      <th>14840</th>\n",
       "      <td>14840</td>\n",
       "      <td>horror-macabre</td>\n",
       "    </tr>\n",
       "    <tr>\n",
       "      <th>3679</th>\n",
       "      <td>3679</td>\n",
       "      <td>award-winning</td>\n",
       "    </tr>\n",
       "    <tr>\n",
       "      <th>8291</th>\n",
       "      <td>8291</td>\n",
       "      <td>cormac</td>\n",
       "    </tr>\n",
       "  </tbody>\n",
       "</table>\n",
       "</div>\n",
       "      <button class=\"colab-df-convert\" onclick=\"convertToInteractive('df-1da53737-4180-491e-8a1f-f4ca1d6217c7')\"\n",
       "              title=\"Convert this dataframe to an interactive table.\"\n",
       "              style=\"display:none;\">\n",
       "        \n",
       "  <svg xmlns=\"http://www.w3.org/2000/svg\" height=\"24px\"viewBox=\"0 0 24 24\"\n",
       "       width=\"24px\">\n",
       "    <path d=\"M0 0h24v24H0V0z\" fill=\"none\"/>\n",
       "    <path d=\"M18.56 5.44l.94 2.06.94-2.06 2.06-.94-2.06-.94-.94-2.06-.94 2.06-2.06.94zm-11 1L8.5 8.5l.94-2.06 2.06-.94-2.06-.94L8.5 2.5l-.94 2.06-2.06.94zm10 10l.94 2.06.94-2.06 2.06-.94-2.06-.94-.94-2.06-.94 2.06-2.06.94z\"/><path d=\"M17.41 7.96l-1.37-1.37c-.4-.4-.92-.59-1.43-.59-.52 0-1.04.2-1.43.59L10.3 9.45l-7.72 7.72c-.78.78-.78 2.05 0 2.83L4 21.41c.39.39.9.59 1.41.59.51 0 1.02-.2 1.41-.59l7.78-7.78 2.81-2.81c.8-.78.8-2.07 0-2.86zM5.41 20L4 18.59l7.72-7.72 1.47 1.35L5.41 20z\"/>\n",
       "  </svg>\n",
       "      </button>\n",
       "      \n",
       "  <style>\n",
       "    .colab-df-container {\n",
       "      display:flex;\n",
       "      flex-wrap:wrap;\n",
       "      gap: 12px;\n",
       "    }\n",
       "\n",
       "    .colab-df-convert {\n",
       "      background-color: #E8F0FE;\n",
       "      border: none;\n",
       "      border-radius: 50%;\n",
       "      cursor: pointer;\n",
       "      display: none;\n",
       "      fill: #1967D2;\n",
       "      height: 32px;\n",
       "      padding: 0 0 0 0;\n",
       "      width: 32px;\n",
       "    }\n",
       "\n",
       "    .colab-df-convert:hover {\n",
       "      background-color: #E2EBFA;\n",
       "      box-shadow: 0px 1px 2px rgba(60, 64, 67, 0.3), 0px 1px 3px 1px rgba(60, 64, 67, 0.15);\n",
       "      fill: #174EA6;\n",
       "    }\n",
       "\n",
       "    [theme=dark] .colab-df-convert {\n",
       "      background-color: #3B4455;\n",
       "      fill: #D2E3FC;\n",
       "    }\n",
       "\n",
       "    [theme=dark] .colab-df-convert:hover {\n",
       "      background-color: #434B5C;\n",
       "      box-shadow: 0px 1px 3px 1px rgba(0, 0, 0, 0.15);\n",
       "      filter: drop-shadow(0px 1px 2px rgba(0, 0, 0, 0.3));\n",
       "      fill: #FFFFFF;\n",
       "    }\n",
       "  </style>\n",
       "\n",
       "      <script>\n",
       "        const buttonEl =\n",
       "          document.querySelector('#df-1da53737-4180-491e-8a1f-f4ca1d6217c7 button.colab-df-convert');\n",
       "        buttonEl.style.display =\n",
       "          google.colab.kernel.accessAllowed ? 'block' : 'none';\n",
       "\n",
       "        async function convertToInteractive(key) {\n",
       "          const element = document.querySelector('#df-1da53737-4180-491e-8a1f-f4ca1d6217c7');\n",
       "          const dataTable =\n",
       "            await google.colab.kernel.invokeFunction('convertToInteractive',\n",
       "                                                     [key], {});\n",
       "          if (!dataTable) return;\n",
       "\n",
       "          const docLinkHtml = 'Like what you see? Visit the ' +\n",
       "            '<a target=\"_blank\" href=https://colab.research.google.com/notebooks/data_table.ipynb>data table notebook</a>'\n",
       "            + ' to learn more about interactive tables.';\n",
       "          element.innerHTML = '';\n",
       "          dataTable['output_type'] = 'display_data';\n",
       "          await google.colab.output.renderOutput(dataTable, element);\n",
       "          const docLink = document.createElement('div');\n",
       "          docLink.innerHTML = docLinkHtml;\n",
       "          element.appendChild(docLink);\n",
       "        }\n",
       "      </script>\n",
       "    </div>\n",
       "  </div>\n",
       "  "
      ],
      "text/plain": [
       "       tag_id        tag_name\n",
       "12550   12550      freemasons\n",
       "14840   14840  horror-macabre\n",
       "3679     3679   award-winning\n",
       "8291     8291          cormac"
      ]
     },
     "execution_count": 10,
     "metadata": {},
     "output_type": "execute_result"
    }
   ],
   "source": [
    "tags = pd.read_csv('input/tags.csv')\n",
    "print(tags.shape, tags.isna().values.any(), tags.duplicated(subset=['tag_name']).values.any())\n",
    "print(tags.columns)\n",
    "tags.sample(4)"
   ]
  },
  {
   "cell_type": "code",
   "execution_count": null,
   "metadata": {
    "id": "NueQz2Ca4zxl"
   },
   "outputs": [],
   "source": [
    "books = books.merge(\n",
    "    book_tags.merge(tags, how='inner', left_on='tag_id', right_on='tag_id'),\n",
    "    left_on='book_id', right_on='goodreads_book_id', how='inner' \n",
    ")"
   ]
  },
  {
   "cell_type": "code",
   "execution_count": null,
   "metadata": {
    "colab": {
     "base_uri": "https://localhost:8080/",
     "height": 221
    },
    "executionInfo": {
     "elapsed": 11,
     "status": "ok",
     "timestamp": 1646241555056,
     "user": {
      "displayName": "Slav Petrovich",
      "photoUrl": "https://lh3.googleusercontent.com/a/default-user=s64",
      "userId": "15467771659501997370"
     },
     "user_tz": -180
    },
    "id": "H3lxOX_LpZbV",
    "outputId": "942d6656-c016-4c7a-aade-d38316363fe1"
   },
   "outputs": [
    {
     "name": "stdout",
     "output_type": "stream",
     "text": [
      "(9417, 2)\n"
     ]
    },
    {
     "data": {
      "text/html": [
       "\n",
       "  <div id=\"df-bb19b533-f269-4bb6-88fa-fb311c3d8ca3\">\n",
       "    <div class=\"colab-df-container\">\n",
       "      <div>\n",
       "<style scoped>\n",
       "    .dataframe tbody tr th:only-of-type {\n",
       "        vertical-align: middle;\n",
       "    }\n",
       "\n",
       "    .dataframe tbody tr th {\n",
       "        vertical-align: top;\n",
       "    }\n",
       "\n",
       "    .dataframe thead th {\n",
       "        text-align: right;\n",
       "    }\n",
       "</style>\n",
       "<table border=\"1\" class=\"dataframe\">\n",
       "  <thead>\n",
       "    <tr style=\"text-align: right;\">\n",
       "      <th></th>\n",
       "      <th>book_id</th>\n",
       "      <th>tag_name</th>\n",
       "    </tr>\n",
       "  </thead>\n",
       "  <tbody>\n",
       "    <tr>\n",
       "      <th>0</th>\n",
       "      <td>1</td>\n",
       "      <td>to-read fantasy favorites currently-reading yo...</td>\n",
       "    </tr>\n",
       "    <tr>\n",
       "      <th>1</th>\n",
       "      <td>2</td>\n",
       "      <td>to-read fantasy favorites currently-reading yo...</td>\n",
       "    </tr>\n",
       "    <tr>\n",
       "      <th>2</th>\n",
       "      <td>3</td>\n",
       "      <td>to-read fantasy favorites currently-reading yo...</td>\n",
       "    </tr>\n",
       "    <tr>\n",
       "      <th>3</th>\n",
       "      <td>5</td>\n",
       "      <td>to-read fantasy favorites currently-reading yo...</td>\n",
       "    </tr>\n",
       "    <tr>\n",
       "      <th>4</th>\n",
       "      <td>6</td>\n",
       "      <td>to-read fantasy young-adult fiction harry-pott...</td>\n",
       "    </tr>\n",
       "  </tbody>\n",
       "</table>\n",
       "</div>\n",
       "      <button class=\"colab-df-convert\" onclick=\"convertToInteractive('df-bb19b533-f269-4bb6-88fa-fb311c3d8ca3')\"\n",
       "              title=\"Convert this dataframe to an interactive table.\"\n",
       "              style=\"display:none;\">\n",
       "        \n",
       "  <svg xmlns=\"http://www.w3.org/2000/svg\" height=\"24px\"viewBox=\"0 0 24 24\"\n",
       "       width=\"24px\">\n",
       "    <path d=\"M0 0h24v24H0V0z\" fill=\"none\"/>\n",
       "    <path d=\"M18.56 5.44l.94 2.06.94-2.06 2.06-.94-2.06-.94-.94-2.06-.94 2.06-2.06.94zm-11 1L8.5 8.5l.94-2.06 2.06-.94-2.06-.94L8.5 2.5l-.94 2.06-2.06.94zm10 10l.94 2.06.94-2.06 2.06-.94-2.06-.94-.94-2.06-.94 2.06-2.06.94z\"/><path d=\"M17.41 7.96l-1.37-1.37c-.4-.4-.92-.59-1.43-.59-.52 0-1.04.2-1.43.59L10.3 9.45l-7.72 7.72c-.78.78-.78 2.05 0 2.83L4 21.41c.39.39.9.59 1.41.59.51 0 1.02-.2 1.41-.59l7.78-7.78 2.81-2.81c.8-.78.8-2.07 0-2.86zM5.41 20L4 18.59l7.72-7.72 1.47 1.35L5.41 20z\"/>\n",
       "  </svg>\n",
       "      </button>\n",
       "      \n",
       "  <style>\n",
       "    .colab-df-container {\n",
       "      display:flex;\n",
       "      flex-wrap:wrap;\n",
       "      gap: 12px;\n",
       "    }\n",
       "\n",
       "    .colab-df-convert {\n",
       "      background-color: #E8F0FE;\n",
       "      border: none;\n",
       "      border-radius: 50%;\n",
       "      cursor: pointer;\n",
       "      display: none;\n",
       "      fill: #1967D2;\n",
       "      height: 32px;\n",
       "      padding: 0 0 0 0;\n",
       "      width: 32px;\n",
       "    }\n",
       "\n",
       "    .colab-df-convert:hover {\n",
       "      background-color: #E2EBFA;\n",
       "      box-shadow: 0px 1px 2px rgba(60, 64, 67, 0.3), 0px 1px 3px 1px rgba(60, 64, 67, 0.15);\n",
       "      fill: #174EA6;\n",
       "    }\n",
       "\n",
       "    [theme=dark] .colab-df-convert {\n",
       "      background-color: #3B4455;\n",
       "      fill: #D2E3FC;\n",
       "    }\n",
       "\n",
       "    [theme=dark] .colab-df-convert:hover {\n",
       "      background-color: #434B5C;\n",
       "      box-shadow: 0px 1px 3px 1px rgba(0, 0, 0, 0.15);\n",
       "      filter: drop-shadow(0px 1px 2px rgba(0, 0, 0, 0.3));\n",
       "      fill: #FFFFFF;\n",
       "    }\n",
       "  </style>\n",
       "\n",
       "      <script>\n",
       "        const buttonEl =\n",
       "          document.querySelector('#df-bb19b533-f269-4bb6-88fa-fb311c3d8ca3 button.colab-df-convert');\n",
       "        buttonEl.style.display =\n",
       "          google.colab.kernel.accessAllowed ? 'block' : 'none';\n",
       "\n",
       "        async function convertToInteractive(key) {\n",
       "          const element = document.querySelector('#df-bb19b533-f269-4bb6-88fa-fb311c3d8ca3');\n",
       "          const dataTable =\n",
       "            await google.colab.kernel.invokeFunction('convertToInteractive',\n",
       "                                                     [key], {});\n",
       "          if (!dataTable) return;\n",
       "\n",
       "          const docLinkHtml = 'Like what you see? Visit the ' +\n",
       "            '<a target=\"_blank\" href=https://colab.research.google.com/notebooks/data_table.ipynb>data table notebook</a>'\n",
       "            + ' to learn more about interactive tables.';\n",
       "          element.innerHTML = '';\n",
       "          dataTable['output_type'] = 'display_data';\n",
       "          await google.colab.output.renderOutput(dataTable, element);\n",
       "          const docLink = document.createElement('div');\n",
       "          docLink.innerHTML = docLinkHtml;\n",
       "          element.appendChild(docLink);\n",
       "        }\n",
       "      </script>\n",
       "    </div>\n",
       "  </div>\n",
       "  "
      ],
      "text/plain": [
       "   book_id                                           tag_name\n",
       "0        1  to-read fantasy favorites currently-reading yo...\n",
       "1        2  to-read fantasy favorites currently-reading yo...\n",
       "2        3  to-read fantasy favorites currently-reading yo...\n",
       "3        5  to-read fantasy favorites currently-reading yo...\n",
       "4        6  to-read fantasy young-adult fiction harry-pott..."
      ]
     },
     "execution_count": 12,
     "metadata": {},
     "output_type": "execute_result"
    }
   ],
   "source": [
    "grouped_tags = books.groupby(by='book_id')['tag_name'].apply(' '.join).reset_index()\n",
    "print(grouped_tags.shape)\n",
    "grouped_tags.head()"
   ]
  },
  {
   "cell_type": "code",
   "execution_count": null,
   "metadata": {
    "id": "fJIy3bIhdKXy"
   },
   "outputs": [],
   "source": [
    "books = pd.merge(\n",
    "    books.iloc[:, :-3],\n",
    "    books.groupby(by='book_id')['tag_name'].apply(' '.join).reset_index(),\n",
    "    left_on='book_id', right_on='book_id', how='inner'\n",
    ").drop_duplicates(keep='first').reset_index(drop=True)\n",
    "books['corpus'] = pd.Series(books[['authors', 'tag_name']].values.tolist()).str.join(' ')"
   ]
  },
  {
   "cell_type": "markdown",
   "metadata": {
    "id": "4xAkhCTKmxkM"
   },
   "source": [
    "## Построение Рекоммендательной системы"
   ]
  },
  {
   "cell_type": "markdown",
   "metadata": {
    "id": "lYIUcEdCnehe"
   },
   "source": [
    "1. Приведите данные датасета `ratings` к виду датафрейма со строками-пользователями, столбцами-книгами и рейтингами на пересечении. Будем дополнять информацию о пользователе на основе прочитанных пользователем книг"
   ]
  },
  {
   "cell_type": "code",
   "execution_count": null,
   "metadata": {
    "id": "GUMxPB7jm18M"
   },
   "outputs": [],
   "source": [
    "full_user_vectors = ratings.pivot_table(values='rating', index='user_id', columns=['book_id']).fillna(0)\n",
    "user_vectors_index = full_user_vectors.index\n",
    "\n",
    "csr_user_vectors = csr_matrix(full_user_vectors.values)\n",
    "del(full_user_vectors)\n",
    "assert(csr_user_vectors.shape == (53424, 10000))"
   ]
  },
  {
   "cell_type": "markdown",
   "metadata": {
    "id": "LGrhw7-VN7uQ"
   },
   "source": [
    "2. Создайте векторы, характеризующие пользоваталей (для content-based лучше это делать по дополнительным данным о пользователях, но так как тут у нас их нет - сделаем вектора-признаки (размерностью 100) на основе проставленных книгам оценок) с помощью метода понижения размерности PCA до 100."
   ]
  },
  {
   "cell_type": "code",
   "execution_count": null,
   "metadata": {
    "id": "4NRlj14Drdsq"
   },
   "outputs": [],
   "source": [
    "# IncrementalPCA builds a lower-rank batch SVDs for the input data, \n",
    "# keeping only the most significant singular vectors to project the data to a lower dimensional space\n",
    "# allows sparse input\n",
    "\n",
    "# complexity of each SVD (batch_size*n_features ** 2); n_SVD-s n_samples / batch_size \n",
    "economy_pca = IncrementalPCA(n_components=100, batch_size=csr_user_vectors.shape[0] // 100)\n",
    "pca_user_vectors = economy_pca.fit_transform(csr_user_vectors)"
   ]
  },
  {
   "cell_type": "markdown",
   "metadata": {
    "id": "Udw3Dh1Q6JeL"
   },
   "source": [
    "tf-idf на основе `books['corpus']` для каждой книги. Корпус документов в виде наборов автор+тэг"
   ]
  },
  {
   "cell_type": "code",
   "execution_count": null,
   "metadata": {
    "id": "qxvE2EFltsa2"
   },
   "outputs": [],
   "source": [
    "# on top 200 most frequent words\n",
    "tf_corpus = TfidfVectorizer(analyzer='word',ngram_range=(1, 2), min_df=0, max_features=200, stop_words='english')\n",
    "tfidf_matrix_corpus = tf_corpus.fit_transform(books['corpus'])"
   ]
  },
  {
   "cell_type": "markdown",
   "metadata": {
    "id": "_H4mGrJpOhuf"
   },
   "source": [
    "Сохранение результатов перед отвалом, чтобы заново не пересчитывать:"
   ]
  },
  {
   "cell_type": "code",
   "execution_count": null,
   "metadata": {
    "colab": {
     "base_uri": "https://localhost:8080/"
    },
    "executionInfo": {
     "elapsed": 399,
     "status": "ok",
     "timestamp": 1646241960671,
     "user": {
      "displayName": "Slav Petrovich",
      "photoUrl": "https://lh3.googleusercontent.com/a/default-user=s64",
      "userId": "15467771659501997370"
     },
     "user_tz": -180
    },
    "id": "P0ViFgz_Lnbf",
    "outputId": "5351f432-42fe-4a4f-980a-fffb68fd3daa"
   },
   "outputs": [
    {
     "name": "stdout",
     "output_type": "stream",
     "text": [
      "mkdir: cannot create directory ‘tmp’: File exists\n"
     ]
    }
   ],
   "source": [
    "!mkdir 'tmp'"
   ]
  },
  {
   "cell_type": "code",
   "execution_count": null,
   "metadata": {
    "id": "BohfRKo1NoTd"
   },
   "outputs": [],
   "source": [
    "save_npz('tmp/tfidf_corpus.npz', tfidf_matrix_corpus)\n",
    "save_npz('tmp/pca_user_vectors.npz', csr_matrix(pca_user_vectors))\n",
    "\n",
    "pd.Series(user_vectors_index, index=user_vectors_index).to_csv('tmp/user_ids.csv', header=True, index=False, columns=['user_id'])\n",
    "books.to_csv('tmp/books.csv', index=False)"
   ]
  },
  {
   "cell_type": "markdown",
   "metadata": {
    "id": "FU6YM8BtOFnG"
   },
   "source": [
    "3. Объедините три датасета:  \n",
    "    * ratings\n",
    "    * pca_user_vectors(векторы-признаки для каждого пользователя)\n",
    "    * tf-idf на основе `books['corpus']` для каждой книги"
   ]
  },
  {
   "cell_type": "code",
   "execution_count": null,
   "metadata": {
    "id": "zgntPFStVRz9"
   },
   "outputs": [],
   "source": [
    "from scipy.sparse import load_npz\n",
    "\n",
    "ratings = pd.read_csv('input/ratings.csv')\n",
    "user_vectors_index = pd.read_csv('tmp/user_ids.csv')\n",
    "pca_user_vectors = load_npz('tmp/pca_user_vectors.npz')\n",
    "tfidf_matrix_corpus = load_npz('tmp/tfidf_corpus.npz')\n",
    "pca_user_vectors_df = pd.DataFrame(pca_user_vectors.toarray(), index=user_vectors_index['user_id'].values)\n",
    "\n",
    "books = pd.read_csv('tmp/books.csv')"
   ]
  },
  {
   "cell_type": "code",
   "execution_count": null,
   "metadata": {
    "id": "BDAE4mqu8lI4"
   },
   "outputs": [],
   "source": [
    "corpus_df = pd.DataFrame(data=tfidf_matrix_corpus.toarray(), index=books['book_id'].values)"
   ]
  },
  {
   "cell_type": "code",
   "execution_count": null,
   "metadata": {
    "id": "d3fvHNhgi1lC"
   },
   "outputs": [],
   "source": [
    "data = ratings.merge(corpus_df.add_suffix('_wrd'), left_on='book_id', right_index=True, how='inner', copy=False)\n",
    "data = data.merge(pca_user_vectors_df.add_suffix('_usftr'), left_on='user_id', right_index=True, how='inner', copy=False)"
   ]
  },
  {
   "cell_type": "markdown",
   "metadata": {
    "id": "6ZSZK9Hz3wuO"
   },
   "source": [
    "4. Разбейте на train/valid set\n",
    "\n"
   ]
  },
  {
   "cell_type": "code",
   "execution_count": null,
   "metadata": {
    "id": "OCZfRH2O33Ol"
   },
   "outputs": [],
   "source": [
    "features = data.columns[3:].to_list()\n",
    "target = 'rating'\n",
    "\n",
    "Train, Valid, Test = np.split(\n",
    "    data[features+[target]].sample(frac=1, random_state=5), \n",
    "    [int(.75*len(data)), int(.9*len(data))]\n",
    ")\n",
    "X_train, X_valid, X_test = Train[features], Valid[features], Test[features]\n",
    "y_train, y_valid, y_test = Train[target], Valid[target], Test[target]"
   ]
  },
  {
   "cell_type": "markdown",
   "metadata": {
    "id": "9KTPjNuU34kA"
   },
   "source": [
    "5. Обучите любую модель машинного обучения (для задачи регрессии (линейную или ансамбль деревьев)), сделайте прогноз и посчитайте метрики RMSE, MSE\n"
   ]
  },
  {
   "cell_type": "markdown",
   "metadata": {
    "id": "LtyFn7rw59Gn"
   },
   "source": [
    "Буду использовать Лассо из-за разреженного характера признакого пространства"
   ]
  },
  {
   "cell_type": "code",
   "execution_count": null,
   "metadata": {
    "id": "H4c5OxjO45Kl"
   },
   "outputs": [],
   "source": [
    "from sklearn.linear_model import Lasso\n",
    "from sklearn.model_selection import GridSearchCV\n",
    "\n",
    "alphas = np.logspace(-3, 1, 5)\n",
    "\n",
    "searcher = GridSearchCV(\n",
    "    estimator=Lasso(), param_grid={'alpha': alphas}, \n",
    "    cv=3, n_jobs=-1, scoring='neg_root_mean_squared_error', refit=False\n",
    ")\n",
    "searcher.fit(X_valid, y_valid)\n",
    "best_alpha = searcher.best_params_['alpha']"
   ]
  },
  {
   "cell_type": "code",
   "execution_count": null,
   "metadata": {
    "colab": {
     "base_uri": "https://localhost:8080/"
    },
    "executionInfo": {
     "elapsed": 431,
     "status": "ok",
     "timestamp": 1646241971343,
     "user": {
      "displayName": "Slav Petrovich",
      "photoUrl": "https://lh3.googleusercontent.com/a/default-user=s64",
      "userId": "15467771659501997370"
     },
     "user_tz": -180
    },
    "id": "Id4lZy1a9TgN",
    "outputId": "8f485f3e-982a-4876-f58d-4c70035b2e78"
   },
   "outputs": [
    {
     "name": "stdout",
     "output_type": "stream",
     "text": [
      "MSE:  0.9512, with Lasso(0.01)\n"
     ]
    }
   ],
   "source": [
    "model = Lasso(best_alpha)\n",
    "model.fit(X_train, y_train)\n",
    "y_pred = model.predict(X_test)\n",
    "\n",
    "print(f\"MSE: {np.square(y_pred - y_test).sum() / y_test.shape[0] : .4f}, with Lasso({best_alpha:.2f})\")"
   ]
  },
  {
   "cell_type": "markdown",
   "metadata": {
    "id": "77VCEnYr40cs"
   },
   "source": [
    "6. Добавьте другие признаки по книгам из `books`"
   ]
  },
  {
   "cell_type": "code",
   "execution_count": null,
   "metadata": {
    "id": "o4rVj_JkZbUS"
   },
   "outputs": [],
   "source": [
    "numeric_features = ['books_count', 'work_ratings_count', 'work_text_reviews_count']\n",
    "categorical_features = ['language_code', 'original_publication_year']\n",
    "\n",
    "data = data.merge(books[numeric_features + categorical_features + ['book_id']], on='book_id', how='inner')"
   ]
  },
  {
   "cell_type": "code",
   "execution_count": null,
   "metadata": {
    "colab": {
     "base_uri": "https://localhost:8080/"
    },
    "executionInfo": {
     "elapsed": 19,
     "status": "ok",
     "timestamp": 1646241971345,
     "user": {
      "displayName": "Slav Petrovich",
      "photoUrl": "https://lh3.googleusercontent.com/a/default-user=s64",
      "userId": "15467771659501997370"
     },
     "user_tz": -180
    },
    "id": "nfKJqXoCaXq4",
    "outputId": "c3021251-273d-4dbe-a541-011746ce14eb"
   },
   "outputs": [
    {
     "data": {
      "text/plain": [
       "35"
      ]
     },
     "execution_count": 26,
     "metadata": {},
     "output_type": "execute_result"
    }
   ],
   "source": [
    "data.loc[:, 'original_publication_year'] -= data['original_publication_year'] % 10\n",
    "data['original_publication_year'] = data['original_publication_year'].apply(str)\n",
    "data['original_publication_year'].nunique()"
   ]
  },
  {
   "cell_type": "code",
   "execution_count": null,
   "metadata": {
    "id": "0WjLsbigXOmM"
   },
   "outputs": [],
   "source": [
    "numeric_features += features\n",
    "updated_features = numeric_features+categorical_features\n",
    "\n",
    "Train, Valid, Test = np.split(\n",
    "    data[updated_features+[target]].sample(frac=1, random_state=5), \n",
    "    [int(.75*len(data)), int(.9*len(data))]\n",
    ")\n",
    "\n",
    "X_train, X_valid, X_test = Train[updated_features], Valid[updated_features], Test[updated_features]\n",
    "y_train, y_valid, y_test = Train[target], Valid[target], Test[target]"
   ]
  },
  {
   "cell_type": "code",
   "execution_count": null,
   "metadata": {
    "id": "S8Qu6n7CbagS"
   },
   "outputs": [],
   "source": [
    "from sklearn.preprocessing import OneHotEncoder\n",
    "from sklearn.preprocessing import StandardScaler\n",
    "\n",
    "from sklearn.pipeline import make_pipeline\n",
    "from sklearn.compose import ColumnTransformer\n",
    "\n",
    "trfrm = ColumnTransformer(\n",
    "    [\n",
    "     ('numerical', StandardScaler(), numeric_features), \n",
    "     ('categorical', OneHotEncoder(), categorical_features)\n",
    "     ]\n",
    ")\n",
    "\n",
    "searcher = GridSearchCV(\n",
    "    estimator=make_pipeline(trfrm, Lasso()), param_grid={'lasso__alpha': alphas},\n",
    "    cv=3, n_jobs=-1, scoring='neg_root_mean_squared_error', refit=False\n",
    ")\n",
    "searcher.fit(X_valid, y_valid)\n",
    "best_alpha = searcher.best_params_['lasso__alpha']"
   ]
  },
  {
   "cell_type": "code",
   "execution_count": null,
   "metadata": {
    "colab": {
     "base_uri": "https://localhost:8080/"
    },
    "executionInfo": {
     "elapsed": 1967,
     "status": "ok",
     "timestamp": 1646241980054,
     "user": {
      "displayName": "Slav Petrovich",
      "photoUrl": "https://lh3.googleusercontent.com/a/default-user=s64",
      "userId": "15467771659501997370"
     },
     "user_tz": -180
    },
    "id": "vrMxNPcYoZ2n",
    "outputId": "4bd50c79-5657-44e2-d78f-5de4bdf04010"
   },
   "outputs": [
    {
     "name": "stdout",
     "output_type": "stream",
     "text": [
      "MSE:  0.9330, with Lasso(0.01)\n"
     ]
    }
   ],
   "source": [
    "pipe_model = make_pipeline(trfrm, Lasso(best_alpha))\n",
    "pipe_model.fit(X_train, y_train)\n",
    "y_pred = pipe_model.predict(X_test)\n",
    "\n",
    "print(f\"MSE: {np.square(y_pred - y_test).sum() / y_test.shape[0] : .4f}, with Lasso({best_alpha:.2f})\")"
   ]
  },
  {
   "cell_type": "markdown",
   "metadata": {
    "id": "iyIU9tZt-Kzz"
   },
   "source": [
    "7. Сделайте тестовый датасет для пользователей и книг, которые находятся в датасете to-read:\n",
    "    * pca_user_vectors(векторы-признаки для каждого пользователя)\n",
    "    * tf-idf на основе `books['corpus']` для каждой книги\n",
    "8. Сделайте для них прогноз"
   ]
  },
  {
   "cell_type": "code",
   "execution_count": null,
   "metadata": {
    "colab": {
     "base_uri": "https://localhost:8080/",
     "height": 207
    },
    "executionInfo": {
     "elapsed": 839,
     "status": "ok",
     "timestamp": 1646245557243,
     "user": {
      "displayName": "Slav Petrovich",
      "photoUrl": "https://lh3.googleusercontent.com/a/default-user=s64",
      "userId": "15467771659501997370"
     },
     "user_tz": -180
    },
    "id": "OF8YoWGO344p",
    "outputId": "0b61b1c9-e7d2-4778-d974-7e7ba2929648"
   },
   "outputs": [
    {
     "name": "stdout",
     "output_type": "stream",
     "text": [
      "(912705, 2) False False\n",
      "Index(['user_id', 'book_id'], dtype='object')\n"
     ]
    },
    {
     "data": {
      "text/html": [
       "\n",
       "  <div id=\"df-81eee85a-db2e-48ca-aabb-e8f4dbe758cb\">\n",
       "    <div class=\"colab-df-container\">\n",
       "      <div>\n",
       "<style scoped>\n",
       "    .dataframe tbody tr th:only-of-type {\n",
       "        vertical-align: middle;\n",
       "    }\n",
       "\n",
       "    .dataframe tbody tr th {\n",
       "        vertical-align: top;\n",
       "    }\n",
       "\n",
       "    .dataframe thead th {\n",
       "        text-align: right;\n",
       "    }\n",
       "</style>\n",
       "<table border=\"1\" class=\"dataframe\">\n",
       "  <thead>\n",
       "    <tr style=\"text-align: right;\">\n",
       "      <th></th>\n",
       "      <th>user_id</th>\n",
       "      <th>book_id</th>\n",
       "    </tr>\n",
       "  </thead>\n",
       "  <tbody>\n",
       "    <tr>\n",
       "      <th>157528</th>\n",
       "      <td>11404</td>\n",
       "      <td>211</td>\n",
       "    </tr>\n",
       "    <tr>\n",
       "      <th>187668</th>\n",
       "      <td>13212</td>\n",
       "      <td>984</td>\n",
       "    </tr>\n",
       "    <tr>\n",
       "      <th>580690</th>\n",
       "      <td>34556</td>\n",
       "      <td>178</td>\n",
       "    </tr>\n",
       "    <tr>\n",
       "      <th>700867</th>\n",
       "      <td>41149</td>\n",
       "      <td>1508</td>\n",
       "    </tr>\n",
       "  </tbody>\n",
       "</table>\n",
       "</div>\n",
       "      <button class=\"colab-df-convert\" onclick=\"convertToInteractive('df-81eee85a-db2e-48ca-aabb-e8f4dbe758cb')\"\n",
       "              title=\"Convert this dataframe to an interactive table.\"\n",
       "              style=\"display:none;\">\n",
       "        \n",
       "  <svg xmlns=\"http://www.w3.org/2000/svg\" height=\"24px\"viewBox=\"0 0 24 24\"\n",
       "       width=\"24px\">\n",
       "    <path d=\"M0 0h24v24H0V0z\" fill=\"none\"/>\n",
       "    <path d=\"M18.56 5.44l.94 2.06.94-2.06 2.06-.94-2.06-.94-.94-2.06-.94 2.06-2.06.94zm-11 1L8.5 8.5l.94-2.06 2.06-.94-2.06-.94L8.5 2.5l-.94 2.06-2.06.94zm10 10l.94 2.06.94-2.06 2.06-.94-2.06-.94-.94-2.06-.94 2.06-2.06.94z\"/><path d=\"M17.41 7.96l-1.37-1.37c-.4-.4-.92-.59-1.43-.59-.52 0-1.04.2-1.43.59L10.3 9.45l-7.72 7.72c-.78.78-.78 2.05 0 2.83L4 21.41c.39.39.9.59 1.41.59.51 0 1.02-.2 1.41-.59l7.78-7.78 2.81-2.81c.8-.78.8-2.07 0-2.86zM5.41 20L4 18.59l7.72-7.72 1.47 1.35L5.41 20z\"/>\n",
       "  </svg>\n",
       "      </button>\n",
       "      \n",
       "  <style>\n",
       "    .colab-df-container {\n",
       "      display:flex;\n",
       "      flex-wrap:wrap;\n",
       "      gap: 12px;\n",
       "    }\n",
       "\n",
       "    .colab-df-convert {\n",
       "      background-color: #E8F0FE;\n",
       "      border: none;\n",
       "      border-radius: 50%;\n",
       "      cursor: pointer;\n",
       "      display: none;\n",
       "      fill: #1967D2;\n",
       "      height: 32px;\n",
       "      padding: 0 0 0 0;\n",
       "      width: 32px;\n",
       "    }\n",
       "\n",
       "    .colab-df-convert:hover {\n",
       "      background-color: #E2EBFA;\n",
       "      box-shadow: 0px 1px 2px rgba(60, 64, 67, 0.3), 0px 1px 3px 1px rgba(60, 64, 67, 0.15);\n",
       "      fill: #174EA6;\n",
       "    }\n",
       "\n",
       "    [theme=dark] .colab-df-convert {\n",
       "      background-color: #3B4455;\n",
       "      fill: #D2E3FC;\n",
       "    }\n",
       "\n",
       "    [theme=dark] .colab-df-convert:hover {\n",
       "      background-color: #434B5C;\n",
       "      box-shadow: 0px 1px 3px 1px rgba(0, 0, 0, 0.15);\n",
       "      filter: drop-shadow(0px 1px 2px rgba(0, 0, 0, 0.3));\n",
       "      fill: #FFFFFF;\n",
       "    }\n",
       "  </style>\n",
       "\n",
       "      <script>\n",
       "        const buttonEl =\n",
       "          document.querySelector('#df-81eee85a-db2e-48ca-aabb-e8f4dbe758cb button.colab-df-convert');\n",
       "        buttonEl.style.display =\n",
       "          google.colab.kernel.accessAllowed ? 'block' : 'none';\n",
       "\n",
       "        async function convertToInteractive(key) {\n",
       "          const element = document.querySelector('#df-81eee85a-db2e-48ca-aabb-e8f4dbe758cb');\n",
       "          const dataTable =\n",
       "            await google.colab.kernel.invokeFunction('convertToInteractive',\n",
       "                                                     [key], {});\n",
       "          if (!dataTable) return;\n",
       "\n",
       "          const docLinkHtml = 'Like what you see? Visit the ' +\n",
       "            '<a target=\"_blank\" href=https://colab.research.google.com/notebooks/data_table.ipynb>data table notebook</a>'\n",
       "            + ' to learn more about interactive tables.';\n",
       "          element.innerHTML = '';\n",
       "          dataTable['output_type'] = 'display_data';\n",
       "          await google.colab.output.renderOutput(dataTable, element);\n",
       "          const docLink = document.createElement('div');\n",
       "          docLink.innerHTML = docLinkHtml;\n",
       "          element.appendChild(docLink);\n",
       "        }\n",
       "      </script>\n",
       "    </div>\n",
       "  </div>\n",
       "  "
      ],
      "text/plain": [
       "        user_id  book_id\n",
       "157528    11404      211\n",
       "187668    13212      984\n",
       "580690    34556      178\n",
       "700867    41149     1508"
      ]
     },
     "execution_count": 82,
     "metadata": {},
     "output_type": "execute_result"
    }
   ],
   "source": [
    "to_read_df = pd.read_csv('input/to_read.csv')\n",
    "print(to_read_df.shape, to_read_df.isna().values.any(), to_read_df.duplicated().values.any())\n",
    "print(to_read_df.columns)\n",
    "to_read_df.sample(4)"
   ]
  },
  {
   "cell_type": "code",
   "execution_count": null,
   "metadata": {
    "colab": {
     "base_uri": "https://localhost:8080/"
    },
    "executionInfo": {
     "elapsed": 754,
     "status": "ok",
     "timestamp": 1646245561563,
     "user": {
      "displayName": "Slav Petrovich",
      "photoUrl": "https://lh3.googleusercontent.com/a/default-user=s64",
      "userId": "15467771659501997370"
     },
     "user_tz": -180
    },
    "id": "Z1fnWO6QsXE6",
    "outputId": "c5fa9380-ed8c-4fd0-87f5-438eb0408150"
   },
   "outputs": [
    {
     "data": {
      "text/plain": [
       "user_id                        int64\n",
       "book_id                        int64\n",
       "0_wrd                        float64\n",
       "1_wrd                        float64\n",
       "2_wrd                        float64\n",
       "                              ...   \n",
       "language_code                 object\n",
       "books_count                    int64\n",
       "original_publication_year    float64\n",
       "work_ratings_count             int64\n",
       "work_text_reviews_count        int64\n",
       "Length: 307, dtype: object"
      ]
     },
     "execution_count": 83,
     "metadata": {},
     "output_type": "execute_result"
    }
   ],
   "source": [
    "test_data = to_read_df.merge(corpus_df.add_suffix('_wrd'), left_on='book_id', right_index=True, how='inner', copy=False)\n",
    "test_data = test_data.merge(pca_user_vectors_df.add_suffix('_usftr'), left_on='user_id', right_index=True, how='inner', copy=False)\n",
    "test_data = test_data.merge(books[list(set(updated_features) ^ set(features))+['book_id']], on='book_id', how='inner', copy=False)\n",
    "test_data.dtypes"
   ]
  },
  {
   "cell_type": "code",
   "execution_count": null,
   "metadata": {
    "id": "Tn6ll3gnvWT5"
   },
   "outputs": [],
   "source": [
    "test_data.loc[:, 'original_publication_year'] -= test_data['original_publication_year'] % 10\n",
    "test_data['original_publication_year'] = test_data['original_publication_year'].apply(str)\n",
    "test_pred_ratings = pipe_model.predict(test_data[updated_features])"
   ]
  },
  {
   "cell_type": "code",
   "execution_count": null,
   "metadata": {
    "colab": {
     "base_uri": "https://localhost:8080/",
     "height": 297
    },
    "executionInfo": {
     "elapsed": 721,
     "status": "ok",
     "timestamp": 1646246231299,
     "user": {
      "displayName": "Slav Petrovich",
      "photoUrl": "https://lh3.googleusercontent.com/a/default-user=s64",
      "userId": "15467771659501997370"
     },
     "user_tz": -180
    },
    "id": "MGsaPPSwylXg",
    "outputId": "b03821ad-1920-49da-fad3-39a1131768c4"
   },
   "outputs": [
    {
     "data": {
      "text/html": [
       "\n",
       "  <div id=\"df-7fa315dd-acea-419c-b6f3-fc857268d94b\">\n",
       "    <div class=\"colab-df-container\">\n",
       "      <div>\n",
       "<style scoped>\n",
       "    .dataframe tbody tr th:only-of-type {\n",
       "        vertical-align: middle;\n",
       "    }\n",
       "\n",
       "    .dataframe tbody tr th {\n",
       "        vertical-align: top;\n",
       "    }\n",
       "\n",
       "    .dataframe thead th {\n",
       "        text-align: right;\n",
       "    }\n",
       "</style>\n",
       "<table border=\"1\" class=\"dataframe\">\n",
       "  <thead>\n",
       "    <tr style=\"text-align: right;\">\n",
       "      <th></th>\n",
       "      <th>user_id</th>\n",
       "      <th>book_id</th>\n",
       "      <th>rating_pred</th>\n",
       "    </tr>\n",
       "  </thead>\n",
       "  <tbody>\n",
       "    <tr>\n",
       "      <th>0</th>\n",
       "      <td>1</td>\n",
       "      <td>112</td>\n",
       "      <td>3.806865</td>\n",
       "    </tr>\n",
       "    <tr>\n",
       "      <th>1</th>\n",
       "      <td>9</td>\n",
       "      <td>112</td>\n",
       "      <td>3.801736</td>\n",
       "    </tr>\n",
       "    <tr>\n",
       "      <th>2</th>\n",
       "      <td>72</td>\n",
       "      <td>112</td>\n",
       "      <td>3.806566</td>\n",
       "    </tr>\n",
       "    <tr>\n",
       "      <th>3</th>\n",
       "      <td>101</td>\n",
       "      <td>112</td>\n",
       "      <td>3.809787</td>\n",
       "    </tr>\n",
       "    <tr>\n",
       "      <th>4</th>\n",
       "      <td>164</td>\n",
       "      <td>112</td>\n",
       "      <td>3.786541</td>\n",
       "    </tr>\n",
       "    <tr>\n",
       "      <th>5</th>\n",
       "      <td>241</td>\n",
       "      <td>112</td>\n",
       "      <td>3.806404</td>\n",
       "    </tr>\n",
       "    <tr>\n",
       "      <th>6</th>\n",
       "      <td>292</td>\n",
       "      <td>112</td>\n",
       "      <td>3.808775</td>\n",
       "    </tr>\n",
       "    <tr>\n",
       "      <th>7</th>\n",
       "      <td>431</td>\n",
       "      <td>112</td>\n",
       "      <td>3.807736</td>\n",
       "    </tr>\n",
       "  </tbody>\n",
       "</table>\n",
       "</div>\n",
       "      <button class=\"colab-df-convert\" onclick=\"convertToInteractive('df-7fa315dd-acea-419c-b6f3-fc857268d94b')\"\n",
       "              title=\"Convert this dataframe to an interactive table.\"\n",
       "              style=\"display:none;\">\n",
       "        \n",
       "  <svg xmlns=\"http://www.w3.org/2000/svg\" height=\"24px\"viewBox=\"0 0 24 24\"\n",
       "       width=\"24px\">\n",
       "    <path d=\"M0 0h24v24H0V0z\" fill=\"none\"/>\n",
       "    <path d=\"M18.56 5.44l.94 2.06.94-2.06 2.06-.94-2.06-.94-.94-2.06-.94 2.06-2.06.94zm-11 1L8.5 8.5l.94-2.06 2.06-.94-2.06-.94L8.5 2.5l-.94 2.06-2.06.94zm10 10l.94 2.06.94-2.06 2.06-.94-2.06-.94-.94-2.06-.94 2.06-2.06.94z\"/><path d=\"M17.41 7.96l-1.37-1.37c-.4-.4-.92-.59-1.43-.59-.52 0-1.04.2-1.43.59L10.3 9.45l-7.72 7.72c-.78.78-.78 2.05 0 2.83L4 21.41c.39.39.9.59 1.41.59.51 0 1.02-.2 1.41-.59l7.78-7.78 2.81-2.81c.8-.78.8-2.07 0-2.86zM5.41 20L4 18.59l7.72-7.72 1.47 1.35L5.41 20z\"/>\n",
       "  </svg>\n",
       "      </button>\n",
       "      \n",
       "  <style>\n",
       "    .colab-df-container {\n",
       "      display:flex;\n",
       "      flex-wrap:wrap;\n",
       "      gap: 12px;\n",
       "    }\n",
       "\n",
       "    .colab-df-convert {\n",
       "      background-color: #E8F0FE;\n",
       "      border: none;\n",
       "      border-radius: 50%;\n",
       "      cursor: pointer;\n",
       "      display: none;\n",
       "      fill: #1967D2;\n",
       "      height: 32px;\n",
       "      padding: 0 0 0 0;\n",
       "      width: 32px;\n",
       "    }\n",
       "\n",
       "    .colab-df-convert:hover {\n",
       "      background-color: #E2EBFA;\n",
       "      box-shadow: 0px 1px 2px rgba(60, 64, 67, 0.3), 0px 1px 3px 1px rgba(60, 64, 67, 0.15);\n",
       "      fill: #174EA6;\n",
       "    }\n",
       "\n",
       "    [theme=dark] .colab-df-convert {\n",
       "      background-color: #3B4455;\n",
       "      fill: #D2E3FC;\n",
       "    }\n",
       "\n",
       "    [theme=dark] .colab-df-convert:hover {\n",
       "      background-color: #434B5C;\n",
       "      box-shadow: 0px 1px 3px 1px rgba(0, 0, 0, 0.15);\n",
       "      filter: drop-shadow(0px 1px 2px rgba(0, 0, 0, 0.3));\n",
       "      fill: #FFFFFF;\n",
       "    }\n",
       "  </style>\n",
       "\n",
       "      <script>\n",
       "        const buttonEl =\n",
       "          document.querySelector('#df-7fa315dd-acea-419c-b6f3-fc857268d94b button.colab-df-convert');\n",
       "        buttonEl.style.display =\n",
       "          google.colab.kernel.accessAllowed ? 'block' : 'none';\n",
       "\n",
       "        async function convertToInteractive(key) {\n",
       "          const element = document.querySelector('#df-7fa315dd-acea-419c-b6f3-fc857268d94b');\n",
       "          const dataTable =\n",
       "            await google.colab.kernel.invokeFunction('convertToInteractive',\n",
       "                                                     [key], {});\n",
       "          if (!dataTable) return;\n",
       "\n",
       "          const docLinkHtml = 'Like what you see? Visit the ' +\n",
       "            '<a target=\"_blank\" href=https://colab.research.google.com/notebooks/data_table.ipynb>data table notebook</a>'\n",
       "            + ' to learn more about interactive tables.';\n",
       "          element.innerHTML = '';\n",
       "          dataTable['output_type'] = 'display_data';\n",
       "          await google.colab.output.renderOutput(dataTable, element);\n",
       "          const docLink = document.createElement('div');\n",
       "          docLink.innerHTML = docLinkHtml;\n",
       "          element.appendChild(docLink);\n",
       "        }\n",
       "      </script>\n",
       "    </div>\n",
       "  </div>\n",
       "  "
      ],
      "text/plain": [
       "   user_id  book_id  rating_pred\n",
       "0        1      112     3.806865\n",
       "1        9      112     3.801736\n",
       "2       72      112     3.806566\n",
       "3      101      112     3.809787\n",
       "4      164      112     3.786541\n",
       "5      241      112     3.806404\n",
       "6      292      112     3.808775\n",
       "7      431      112     3.807736"
      ]
     },
     "execution_count": 91,
     "metadata": {},
     "output_type": "execute_result"
    }
   ],
   "source": [
    "res = pd.concat([test_data[['user_id', 'book_id']], pd.Series(data=test_pred_ratings).rename(\"rating_pred\")], axis=1)\n",
    "res.to_csv('input/result_to_read.csv', index=False)\n",
    "res.head(8)"
   ]
  },
  {
   "cell_type": "markdown",
   "metadata": {
    "id": "U1Mvid4c68Xj"
   },
   "source": [
    "## Вывод ## \n",
    "Были построены рекоммендации для книг сервиса `goodreads`, по имеющимся оценкам пользователей для тех же книг с других ресурсов. В процессе решения были использованы методы отбора признаков путем понижения размерности и решена задача регрессии через Lasso (линейная регрессия + l1 регуляризация) с подбором оптимального коэф-та регуляризации. Был выбран именно этот метод, т.к. имелось большое признаковое пространство."
   ]
  }
 ],
 "metadata": {
  "colab": {
   "authorship_tag": "ABX9TyOXuTRHdPddnLxUCJMx/ilK",
   "collapsed_sections": [],
   "name": "CB-Recomend_Tretyakov.ipynb",
   "provenance": []
  },
  "kernelspec": {
   "display_name": "Python 3 (ipykernel)",
   "language": "python",
   "name": "python3"
  },
  "language_info": {
   "codemirror_mode": {
    "name": "ipython",
    "version": 3
   },
   "file_extension": ".py",
   "mimetype": "text/x-python",
   "name": "python",
   "nbconvert_exporter": "python",
   "pygments_lexer": "ipython3",
   "version": "3.8.9"
  }
 },
 "nbformat": 4,
 "nbformat_minor": 4
}
