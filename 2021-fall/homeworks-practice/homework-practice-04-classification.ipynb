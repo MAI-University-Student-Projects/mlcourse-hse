{
 "cells": [
  {
   "cell_type": "markdown",
   "metadata": {
    "id": "6B5LUDkuWj8o"
   },
   "source": [
    "# Машинное обучение, ФКН ВШЭ\n",
    "\n",
    "## Практическое задание 4. Классификация. \n",
    "\n",
    "### Общая информация\n",
    "Дата выдачи: 29.10.2021\n",
    "\n",
    "Мягкий дедлайн: 23:59MSK 10.11.2021 (за каждый день просрочки снимается 1 балл)\n",
    "\n",
    "Жесткий дедлайн: 23:59MSK 13.11.2021"
   ]
  },
  {
   "cell_type": "markdown",
   "metadata": {
    "id": "lFgXNl25Wj8q"
   },
   "source": [
    "### О задании\n",
    "\n",
    "В этом задании вы:\n",
    "- ознакомитесь с тем, что происходит \"внутри\" метода опорных векторов и логистической регрессии\n",
    "- познакомитесь с калибровкой вероятности\n",
    "- изучите методы трансформации переменных и методы отбора признаков\n",
    "- попробуете оценить экономический эффект модели\n",
    "\n",
    "\n",
    "### Оценивание и штрафы\n",
    "Каждая из задач имеет определенную «стоимость» (указана в скобках около задачи). Максимально допустимая оценка за работу — 10 баллов.\n",
    "\n",
    "Сдавать задание после указанного срока сдачи нельзя. При выставлении неполного балла за задание в связи с наличием ошибок на усмотрение проверяющего предусмотрена возможность исправить работу на указанных в ответном письме условиях.\n",
    "\n",
    "Задание выполняется самостоятельно. «Похожие» решения считаются плагиатом и все задействованные студенты (в том числе те, у кого списали) не могут получить за него больше 0 баллов (подробнее о плагиате см. на странице курса). Если вы нашли решение какого-то из заданий (или его часть) в открытом источнике, необходимо указать ссылку на этот источник в отдельном блоке в конце вашей работы (скорее всего вы будете не единственным, кто это нашел, поэтому чтобы исключить подозрение в плагиате, необходима ссылка на источник).\n",
    "\n",
    "Неэффективная реализация кода может негативно отразиться на оценке.\n",
    "\n",
    "\n",
    "### Формат сдачи\n",
    "Для сдачи задания переименуйте получившийся файл *.ipynb в соответствии со следующим форматом: homework-practice-04-classification-Username.ipynb, где Username — ваша фамилия и имя на латинице именно в таком порядке (например, homework-practice-04-classification-IvanovIvan.ipynb).\n",
    "\n",
    "Для удобства проверки самостоятельно посчитайте свою максимальную оценку (исходя из набора решенных задач) и укажите ниже.\n",
    "\n",
    "**Оценка**: "
   ]
  },
  {
   "cell_type": "code",
   "execution_count": 1,
   "metadata": {
    "executionInfo": {
     "elapsed": 333,
     "status": "ok",
     "timestamp": 1649347642939,
     "user": {
      "displayName": "Slav Petrovich",
      "userId": "15467771659501997370"
     },
     "user_tz": -180
    },
    "id": "fgO1d9bOWj8s"
   },
   "outputs": [],
   "source": [
    "import numpy as np\n",
    "import pandas as pd\n",
    "import matplotlib.pyplot as plt\n",
    "%matplotlib inline\n",
    "\n",
    "pd.set_option('display.max_rows', 100)\n",
    "pd.set_option('display.max_columns', 100)"
   ]
  },
  {
   "cell_type": "markdown",
   "metadata": {
    "id": "N6VgqWYFWj8u"
   },
   "source": [
    "# Часть 0. SVM, LR и калибровка вероятностей. "
   ]
  },
  {
   "cell_type": "markdown",
   "metadata": {
    "id": "HFMbitEaWj8v"
   },
   "source": [
    "Сгенерируем синтетические данные."
   ]
  },
  {
   "cell_type": "code",
   "execution_count": 2,
   "metadata": {
    "executionInfo": {
     "elapsed": 324,
     "status": "ok",
     "timestamp": 1649347643259,
     "user": {
      "displayName": "Slav Petrovich",
      "userId": "15467771659501997370"
     },
     "user_tz": -180
    },
    "id": "LALAXOY3Wj8v"
   },
   "outputs": [],
   "source": [
    "from sklearn.datasets import make_classification\n",
    "from sklearn.model_selection import train_test_split\n",
    "\n",
    "X, y = make_classification(\n",
    "    n_samples=10000, n_features=10, n_informative=5, n_redundant=5,\n",
    "    random_state=42)\n",
    "\n",
    "X_train, X_test, y_train, y_test = train_test_split(\n",
    "    X, y, test_size=0.3, random_state=42)"
   ]
  },
  {
   "cell_type": "markdown",
   "metadata": {
    "id": "go24BfBRWj8x"
   },
   "source": [
    "__Задание 1.__ Обучение и применение метода опорных векторов и логистической регрессии.\n",
    "\n",
    "__(1 балл)__\n",
    "\n",
    "Обучите метод опорных векторов. На занятиях мы проходили линейный вариант без ядрового перехода, что соответствует линейному ядру (`LinearSVC` или же `SVC(kernel='linear')` в `sklearn.svm`). Подберите параметр регуляризации `C` (можете воспользоваться кросс-валидацией или отделить валидационную выборку от обучающей). __Здесь и далее, если не сказано иначе, подбирайте оптимальные гиперпараметры с точки зрения AUC-PR.__"
   ]
  },
  {
   "cell_type": "code",
   "execution_count": 3,
   "metadata": {
    "colab": {
     "base_uri": "https://localhost:8080/"
    },
    "executionInfo": {
     "elapsed": 79936,
     "status": "ok",
     "timestamp": 1649347723193,
     "user": {
      "displayName": "Slav Petrovich",
      "userId": "15467771659501997370"
     },
     "user_tz": -180
    },
    "id": "yPtkg6fgWj8x",
    "outputId": "25af7a3b-4cc0-4c95-e1d6-12fd145ee234"
   },
   "outputs": [
    {
     "data": {
      "text/plain": [
       "SVC(C=0.0001, kernel='linear', probability=True)"
      ]
     },
     "execution_count": 3,
     "metadata": {},
     "output_type": "execute_result"
    }
   ],
   "source": [
    "#your code here\n",
    "from sklearn.metrics import average_precision_score\n",
    "from sklearn.model_selection import GridSearchCV\n",
    "from sklearn.svm import SVC\n",
    "\n",
    "searcher = GridSearchCV(\n",
    "    SVC(kernel='linear', probability=True), \n",
    "    param_grid={ 'C': np.logspace(-4, 0, 5)  }, \n",
    "    scoring='average_precision', cv=3, n_jobs=-1, refit=False\n",
    ")\n",
    "searcher.fit(X_train, y_train)\n",
    "\n",
    "optima_vector_machine = SVC(kernel='linear', C=searcher.best_params_['C'], probability=True)\n",
    "optima_vector_machine.fit(X_train, y_train)"
   ]
  },
  {
   "cell_type": "markdown",
   "metadata": {
    "id": "537WVZZUWj8y"
   },
   "source": [
    "На тестовой части постройте ROC и PR кривые, а также посчитайте AUC-ROC, AUC-PR с точностью до 5 знаков. Сравните AUC-ROC и AUC-PR для вашей модели с этими же метриками для случайного классификатора (который на каждом объекте выдаёт один из двух классов с равными вероятностями)."
   ]
  },
  {
   "cell_type": "code",
   "execution_count": 4,
   "metadata": {
    "colab": {
     "base_uri": "https://localhost:8080/",
     "height": 370
    },
    "executionInfo": {
     "elapsed": 668,
     "status": "ok",
     "timestamp": 1649347723851,
     "user": {
      "displayName": "Slav Petrovich",
      "userId": "15467771659501997370"
     },
     "user_tz": -180
    },
    "id": "yyrydtxgWj8z",
    "outputId": "bd16d0fd-6300-4029-b14e-96bfc96ff813"
   },
   "outputs": [
    {
     "name": "stdout",
     "output_type": "stream",
     "text": [
      "AUC-ROC=0.83987; AUC-PR=0.83312\n",
      "AUC-ROC-random_clf=0.5; AUC-PR-random_clf=0.75283\n"
     ]
    },
    {
     "data": {
      "image/png": "[encoded data removed]",
      "text/plain": [
       "<Figure size 1224x360 with 2 Axes>"
      ]
     },
     "metadata": {
      "needs_background": "light"
     },
     "output_type": "display_data"
    }
   ],
   "source": [
    "#your code here\n",
    "from sklearn.metrics import precision_recall_curve, roc_curve, auc, roc_auc_score\n",
    "\n",
    "y_prob = optima_vector_machine.predict_proba(X_test)[:, 1]\n",
    "fpr, tpr, _ = roc_curve(y_test, y_prob, pos_label=1)\n",
    "prec, rec, _ = precision_recall_curve(y_test, y_prob, pos_label=1)\n",
    "\n",
    "eq_prob = np.full(y_prob.shape, fill_value=0.5)\n",
    "eq_prec, eq_rec, _ = precision_recall_curve(y_test, eq_prob, pos_label=1)\n",
    "\n",
    "fig, axs = plt.subplots(ncols=2, figsize=(17, 5))\n",
    "axs[0].plot(fpr, tpr)\n",
    "axs[0].set_title(\"ROC curve\")\n",
    "axs[1].plot(rec, prec)\n",
    "axs[1].set_title(\"PR curve\")\n",
    "\n",
    "auc_roc, auc_pr = round(auc(fpr, tpr), 5), round(auc(rec, prec), 5)\n",
    "auc_roc_eqprob, auc_pr_eqprob = round(roc_auc_score(y_test, eq_prob), 5), round(auc(eq_rec, eq_prec), 5)\n",
    "print(f\"AUC-ROC={auc_roc}; AUC-PR={auc_pr}\\nAUC-ROC-random_clf={auc_roc_eqprob}; AUC-PR-random_clf={auc_pr_eqprob}\")\n",
    "plt.show();"
   ]
  },
  {
   "cell_type": "markdown",
   "metadata": {
    "id": "wyBujoBkWj8z"
   },
   "source": [
    "А теперь проделайте все то же самое для логистической регрессии (LR) — обучение, подбор параметра регуляризации (используйте L2-регуляризацию), вычисление всех метрик и построение кривых. Сравните результаты LR и SVM с точки зрения всех вычисленных критериев качества, объясните различия (если они есть)."
   ]
  },
  {
   "cell_type": "code",
   "execution_count": 5,
   "metadata": {
    "colab": {
     "base_uri": "https://localhost:8080/"
    },
    "executionInfo": {
     "elapsed": 545,
     "status": "ok",
     "timestamp": 1649347724389,
     "user": {
      "displayName": "Slav Petrovich",
      "userId": "15467771659501997370"
     },
     "user_tz": -180
    },
    "id": "ogoxQISHWj80",
    "outputId": "a44846f9-9809-40c8-d9c9-27b4c9cd1f76"
   },
   "outputs": [
    {
     "data": {
      "text/plain": [
       "LogisticRegression(C=0.001)"
      ]
     },
     "execution_count": 5,
     "metadata": {},
     "output_type": "execute_result"
    }
   ],
   "source": [
    "#your code here\n",
    "from sklearn.linear_model import LogisticRegression\n",
    "\n",
    "# refit: refitting best model (with best score) to cast 'predict' on the searcher\n",
    "searcher = GridSearchCV(\n",
    "    LogisticRegression(penalty='l2'),\n",
    "    param_grid={'C': np.logspace(-4, 0, 5)},\n",
    "    scoring='average_precision', cv=3, n_jobs=-1, refit=False\n",
    ")\n",
    "searcher.fit(X_train, y_train)\n",
    "\n",
    "optima_log_regr = LogisticRegression(penalty='l2', C=searcher.best_params_['C'])\n",
    "optima_log_regr.fit(X_train, y_train)"
   ]
  },
  {
   "cell_type": "code",
   "execution_count": 6,
   "metadata": {
    "colab": {
     "base_uri": "https://localhost:8080/",
     "height": 353
    },
    "executionInfo": {
     "elapsed": 23,
     "status": "ok",
     "timestamp": 1649347724390,
     "user": {
      "displayName": "Slav Petrovich",
      "userId": "15467771659501997370"
     },
     "user_tz": -180
    },
    "id": "K0_IO_yy6NY1",
    "outputId": "19ae4326-cdd2-465a-e81d-380a5eeb9b0c"
   },
   "outputs": [
    {
     "name": "stdout",
     "output_type": "stream",
     "text": [
      "AUC-ROC=0.84534; AUC-PR=0.8336\n"
     ]
    },
    {
     "data": {
      "image/png": "[encoded data removed]",
      "text/plain": [
       "<Figure size 1224x360 with 2 Axes>"
      ]
     },
     "metadata": {
      "needs_background": "light"
     },
     "output_type": "display_data"
    }
   ],
   "source": [
    "y_prob = optima_log_regr.predict_proba(X_test)[:, 1]\n",
    "fpr, tpr, _ = roc_curve(y_test, y_prob, pos_label=1)\n",
    "prec, rec, _ = precision_recall_curve(y_test, y_prob, pos_label=1)\n",
    "\n",
    "fig, axs = plt.subplots(ncols=2, figsize=(17, 5))\n",
    "axs[0].plot(fpr, tpr)\n",
    "axs[0].set_title(\"ROC curve\")\n",
    "axs[1].plot(rec, prec)\n",
    "axs[1].set_title(\"PR curve\")\n",
    "\n",
    "auc_roc, auc_pr = round(auc(fpr, tpr), 5), round(auc(rec, prec), 5)\n",
    "print(f\"AUC-ROC={auc_roc}; AUC-PR={auc_pr}\")\n",
    "plt.show();"
   ]
  },
  {
   "cell_type": "markdown",
   "metadata": {
    "id": "-xpufaAFWj81"
   },
   "source": [
    "В названии метода опорных векторов присутствуют некоторые \"опорные векторы\" (объекты $ x_i $, лежащие внутри границ проводимых SVM-ом гиперплоскостей либо нарушающие ее). Сгенерируйте синтетические данные с помощью `make_classification` с 2 признаками, обучите на нём метод опорных векторов. Визуализируйте разделяющую прямую, все объекты и выделите опорные векторы (атрибут `support_vectors_`). В этот раз, если необходимо, вместо `LinearSVC` воспользуйтесь `SVC(kernel='linear')`, так как только в нём есть информация об опорных векторах."
   ]
  },
  {
   "cell_type": "code",
   "execution_count": 7,
   "metadata": {
    "executionInfo": {
     "elapsed": 673,
     "status": "ok",
     "timestamp": 1649347725056,
     "user": {
      "displayName": "Slav Petrovich",
      "userId": "15467771659501997370"
     },
     "user_tz": -180
    },
    "id": "Qi-8R0OAY7NV"
   },
   "outputs": [],
   "source": [
    "#your code here\n",
    "X, y = make_classification(\n",
    "    n_samples=1000, n_features=2, n_informative=2, n_redundant=0,\n",
    "    random_state=42\n",
    ")\n",
    "\n",
    "X_train, X_test, y_train, y_test = train_test_split(X, y, test_size=0.3, random_state=42)"
   ]
  },
  {
   "cell_type": "code",
   "execution_count": 8,
   "metadata": {
    "colab": {
     "base_uri": "https://localhost:8080/",
     "height": 374
    },
    "executionInfo": {
     "elapsed": 10,
     "status": "ok",
     "timestamp": 1649347725057,
     "user": {
      "displayName": "Slav Petrovich",
      "userId": "15467771659501997370"
     },
     "user_tz": -180
    },
    "id": "zTqmHAnhWj82",
    "outputId": "5f54381a-9866-4f78-dd60-b191cf05336b"
   },
   "outputs": [
    {
     "data": {
      "image/png": "[encoded data removed]",
      "text/plain": [
       "<Figure size 720x432 with 1 Axes>"
      ]
     },
     "metadata": {
      "needs_background": "light"
     },
     "output_type": "display_data"
    }
   ],
   "source": [
    "optima_vector_machine = SVC(kernel='linear', C=0.01)\n",
    "optima_vector_machine.fit(X_train, y_train)\n",
    "y_pred = optima_vector_machine.predict(X_test)\n",
    "\n",
    "fig, ax = plt.subplots(figsize=(10, 6))\n",
    "colors = np.array([\"red\", \"green\"])\n",
    "\n",
    "ax.scatter(X_train[:, 0], X_train[:, 1], c=colors[y_train], edgecolors='black', s=70)\n",
    "ax.scatter(X_test[:, 0], X_test[:, 1], c=colors[y_pred], marker='x', s=70)\n",
    "\n",
    "x1lim = ax.get_xlim()\n",
    "x2lim = ax.get_ylim()\n",
    "\n",
    "# create grid to evaluate model\n",
    "# строим сетку для линий уровня\n",
    "x1 = np.linspace(x1lim[0], x1lim[1], 30)\n",
    "x2 = np.linspace(x2lim[0], x2lim[1], 30)\n",
    "X2, X1 = np.meshgrid(x2, x1)\n",
    "# строим координаты точек: раскрываем сетки в одномерный массив и складываем эти массивы друг на друга\n",
    "# т.о получим координаты: x1 в первом столбце, x2 во втором\n",
    "x1x2 = np.vstack([X1.ravel(), X2.ravel()]).T\n",
    "Z = optima_vector_machine.decision_function(x1x2).reshape(X1.shape)\n",
    "\n",
    "# линии уровня\n",
    "ax.contour(\n",
    "    X1, X2, Z, colors=\"k\", levels=[-1, 0, 1], alpha=0.5, linestyles=[\"--\", \"-\", \"--\"]\n",
    ")\n",
    "\n",
    "ax.scatter(optima_vector_machine.support_vectors_[:, 0], optima_vector_machine.support_vectors_[:, 1], c=colors[y_train[optima_vector_machine.support_]], marker='v', edgecolors='orange', s=90)\n",
    "\n",
    "plt.show();"
   ]
  },
  {
   "cell_type": "markdown",
   "metadata": {
    "id": "6vteY9hmWj82"
   },
   "source": [
    "В отличие от метода опорных векторов, логистическая регрессия не пытается построить разделяющую гиперплоскость с максимальным отступом, а приближает в каждой точке пространства объектов вероятность положительных ответов $p(y=+1|x)$. Попробуйте нарисовать это распределение на плоскости, не забудьте отметить на ней все объекты. Вам может помочь функция `plt.pcolor`."
   ]
  },
  {
   "cell_type": "code",
   "execution_count": 9,
   "metadata": {
    "colab": {
     "base_uri": "https://localhost:8080/",
     "height": 374
    },
    "executionInfo": {
     "elapsed": 642,
     "status": "ok",
     "timestamp": 1649347725691,
     "user": {
      "displayName": "Slav Petrovich",
      "userId": "15467771659501997370"
     },
     "user_tz": -180
    },
    "id": "ltFGPpA8WpuE",
    "outputId": "ed91a278-4505-4da5-eec0-9f57c6a1e3ca"
   },
   "outputs": [
    {
     "data": {
      "image/png": "[encoded data removed]",
      "text/plain": [
       "<Figure size 720x432 with 1 Axes>"
      ]
     },
     "metadata": {
      "needs_background": "light"
     },
     "output_type": "display_data"
    }
   ],
   "source": [
    "optima_log_regr = LogisticRegression(penalty='l2', C=0.1)\n",
    "optima_log_regr.fit(X_train, y_train)\n",
    "y_pred = optima_log_regr.predict(X_test)\n",
    "\n",
    "fig, ax = plt.subplots(figsize=(10, 6))\n",
    "\n",
    "Z = optima_log_regr.predict_proba(x1x2)[:, 1].reshape(X1.shape)\n",
    "\n",
    "ax.pcolor(X1, X2, Z, cmap='BrBG')\n",
    "ax.scatter(X_train[:, 0], X_train[:, 1], c=colors[y_train], edgecolors='black', s=70)\n",
    "ax.scatter(X_test[:, 0], X_test[:, 1], c=colors[y_pred], marker='x', s=70)\n",
    "plt.show();"
   ]
  },
  {
   "cell_type": "markdown",
   "metadata": {
    "id": "5g74qLbEWj85"
   },
   "source": [
    "__Задание 2.__ Калибровка вероятностей.\n",
    "\n",
    "__(1 балл)__\n",
    "\n",
    "Перейдём к оценке качества выдаваемых алгоритмами вероятностей. Начнём с калибровочных кривых. \n",
    "\n",
    "Допустим, алгоритм возвращает некоторые числа от нуля до единицы. Хорошо ли они оценивают вероятность? Для этого разобьем отрезок $[0, 1]$ на несколько маленьких отрезков одинаковой длины. Рассмотрим $i$-й отрезок с границами $[a_i, b_i]$ и предсказания $p_1, p_2, \\dots, p_k$, которые попали в него. Пусть им соответствуют истинные ответы $y_1, y_2, \\dots, y_k$. Если алгоритм выдает корректные вероятности, то среди этих истинных ответов должно быть примерно $(a_i + b_i) / 2$ единиц. Иными словами, если нарисовать кривую, у которой по оси X отложены центры отрезков, а по оси Y — доли единичных ответов этих в отрезках, то она должна оказаться диагональной. Ниже приведена функция, которая должна рисовать такие кривые. В ней допущено две ошибки — найдите и исправьте их."
   ]
  },
  {
   "cell_type": "code",
   "execution_count": 10,
   "metadata": {
    "executionInfo": {
     "elapsed": 10,
     "status": "ok",
     "timestamp": 1649347725692,
     "user": {
      "displayName": "Slav Petrovich",
      "userId": "15467771659501997370"
     },
     "user_tz": -180
    },
    "id": "Utz5USXGWj86"
   },
   "outputs": [],
   "source": [
    "def plot_calibration_curve(y_test, preds):\n",
    "    bin_middle_points = []\n",
    "    bin_real_ratios = []\n",
    "    n_bins = 10\n",
    "    for i in range(n_bins):\n",
    "        l = 1.0 / n_bins * i\n",
    "        r = 1.0 / n_bins * (i + 1)\n",
    "        bin_middle_points.append((l + r) / 2) # +\n",
    "        bin_real_ratios.append(np.mean(y_test[(preds >= l) & (preds < r)] == 1)) # np.mean(): sum(True) / len\n",
    "    plt.plot(bin_middle_points, bin_real_ratios)\n",
    "    plt.ylim([-0.05, 1.05])\n",
    "    plt.grid()"
   ]
  },
  {
   "cell_type": "markdown",
   "metadata": {
    "id": "BuBKjd2mWj87"
   },
   "source": [
    "Сгенерируйте синтетические данные аналогично использованным в самом первом задании. Постройте калибровочные кривые на тестовой части для логистической регрессии и метода опорных векторов (не забудьте перевести его предсказания в $[0;1]$). Изучите распределение ответов классификаторов (постройте гистограммы с помощью `plt.hist`). Чем они различаются? Чем вы можете объяснить это?"
   ]
  },
  {
   "cell_type": "code",
   "execution_count": 11,
   "metadata": {
    "executionInfo": {
     "elapsed": 9,
     "status": "ok",
     "timestamp": 1649347725693,
     "user": {
      "displayName": "Slav Petrovich",
      "userId": "15467771659501997370"
     },
     "user_tz": -180
    },
    "id": "khTl3-0UWj88"
   },
   "outputs": [],
   "source": [
    "#your code here\n",
    "X, y = make_classification(\n",
    "    n_samples=10000, n_features=10, n_informative=5, n_redundant=5,\n",
    "    random_state=42)\n",
    "\n",
    "X_train, X_test, y_train, y_test = train_test_split(\n",
    "    X, y, test_size=0.3, random_state=42)"
   ]
  },
  {
   "cell_type": "code",
   "execution_count": 12,
   "metadata": {
    "colab": {
     "base_uri": "https://localhost:8080/",
     "height": 336
    },
    "executionInfo": {
     "elapsed": 1454,
     "status": "ok",
     "timestamp": 1649347727140,
     "user": {
      "displayName": "Slav Petrovich",
      "userId": "15467771659501997370"
     },
     "user_tz": -180
    },
    "id": "71WOh63qoVAL",
    "outputId": "9ce31edd-4688-434f-8a91-38a861118b7c"
   },
   "outputs": [
    {
     "data": {
      "image/png": "[encoded data removed]",
      "text/plain": [
       "<Figure size 576x360 with 1 Axes>"
      ]
     },
     "metadata": {
      "needs_background": "light"
     },
     "output_type": "display_data"
    }
   ],
   "source": [
    "optima_vector_machine = SVC(kernel='linear', C=0.0001)\n",
    "optima_vector_machine.fit(X_train, y_train)\n",
    "y_pred_svm = optima_vector_machine.decision_function(X_test)\n",
    "y_prob_svm = (y_pred_svm - y_pred_svm.min()) / (y_pred_svm.max() - y_pred_svm.min())\n",
    "\n",
    "optima_log_regr = LogisticRegression(penalty='l2', C=0.001)\n",
    "optima_log_regr.fit(X_train, y_train)\n",
    "y_prob_log_regr = optima_log_regr.predict_proba(X_test)[:, 1]\n",
    "\n",
    "plt.figure(figsize=(8,5))\n",
    "\n",
    "plot_calibration_curve(y_test, y_prob_svm)\n",
    "plot_calibration_curve(y_test, y_prob_log_regr)\n",
    "\n",
    "plt.plot([0, 1], [0, 1], linestyle='--', color='green')\n",
    "plt.title(\"Calibration curves\")\n",
    "plt.legend([\"SVM\", \"Log-regr\", \"Perfect\"])\n",
    "plt.show();"
   ]
  },
  {
   "cell_type": "code",
   "execution_count": 13,
   "metadata": {
    "colab": {
     "base_uri": "https://localhost:8080/",
     "height": 336
    },
    "executionInfo": {
     "elapsed": 294,
     "status": "ok",
     "timestamp": 1649347727428,
     "user": {
      "displayName": "Slav Petrovich",
      "userId": "15467771659501997370"
     },
     "user_tz": -180
    },
    "id": "xK_EicvJTLm_",
    "outputId": "c954a006-7d73-4c96-a0f2-1bfe1e459565"
   },
   "outputs": [
    {
     "data": {
      "image/png": "[encoded data removed]",
      "text/plain": [
       "<Figure size 1224x360 with 2 Axes>"
      ]
     },
     "metadata": {
      "needs_background": "light"
     },
     "output_type": "display_data"
    }
   ],
   "source": [
    "plt.figure(figsize=(17, 5))\n",
    "lbls = ['SVM prob res-s', 'Log-regr prob res-s']\n",
    "for i, (lbl, data) in enumerate(zip(lbls, (y_prob_svm, y_prob_log_regr))):\n",
    "    ax = plt.subplot(1, 2, i+1)\n",
    "    ax.hist(data, bins=20)\n",
    "    ax.set_title(lbl)\n",
    "    ax.grid(True)\n",
    "plt.show();"
   ]
  },
  {
   "cell_type": "markdown",
   "metadata": {
    "id": "0dGF_GOkU2gk"
   },
   "source": [
    "Значения вероятности принадлежности классу для объектов в логистической регрессии распределены более равномерно"
   ]
  },
  {
   "cell_type": "markdown",
   "metadata": {
    "id": "7I57pdfdWj88"
   },
   "source": [
    "Воспользуйтесь `CalibratedClassifierCV` из `sklearn` для калибровки вероятностей метода опорных векторов на обучении и постройте с его помощью предсказания для тестовой выборки. Нарисуйте для них калибровочную кривую. Улучшилась ли она?"
   ]
  },
  {
   "cell_type": "code",
   "execution_count": 14,
   "metadata": {
    "colab": {
     "base_uri": "https://localhost:8080/",
     "height": 336
    },
    "executionInfo": {
     "elapsed": 5117,
     "status": "ok",
     "timestamp": 1649347732538,
     "user": {
      "displayName": "Slav Petrovich",
      "userId": "15467771659501997370"
     },
     "user_tz": -180
    },
    "id": "EUsg9e0oWj89",
    "outputId": "e484f851-080f-4128-8749-5466d2ffca58"
   },
   "outputs": [
    {
     "data": {
      "image/png": "[encoded data removed]",
      "text/plain": [
       "<Figure size 576x360 with 1 Axes>"
      ]
     },
     "metadata": {
      "needs_background": "light"
     },
     "output_type": "display_data"
    }
   ],
   "source": [
    "#your code here\n",
    "from sklearn.calibration import CalibratedClassifierCV\n",
    "\n",
    "sigmoid_svm = CalibratedClassifierCV(base_estimator=SVC(kernel='linear', C=0.0001), method='sigmoid', cv=4, n_jobs=-1)\n",
    "sigmoid_svm.fit(X_train, y_train)\n",
    "y_prob_svm = sigmoid_svm.predict_proba(X_test)[:, 1]\n",
    "\n",
    "plt.figure(figsize=(8,5))\n",
    "plot_calibration_curve(y_test, y_prob_svm)\n",
    "plt.plot([0, 1], [0, 1], linestyle='--', color='green')\n",
    "plt.title(\"Calibrated SVM\")\n",
    "plt.legend([\"SVM\", \"Perfect\"])\n",
    "plt.show();"
   ]
  },
  {
   "cell_type": "markdown",
   "metadata": {
    "id": "gQLlis-MWj8-"
   },
   "source": [
    "__Бонусное задание (0.5 балла).__ Реализуйте свою функцию для калибровки вероятностей. Опишите ваш подход и продемонстрируйте результаты. Ключевые слова для вдохновения: `Platt`, `Isotonic`."
   ]
  },
  {
   "cell_type": "code",
   "execution_count": 15,
   "metadata": {
    "executionInfo": {
     "elapsed": 10,
     "status": "ok",
     "timestamp": 1649347732539,
     "user": {
      "displayName": "Slav Petrovich",
      "userId": "15467771659501997370"
     },
     "user_tz": -180
    },
    "id": "FOq-8sSEWj8-"
   },
   "outputs": [],
   "source": [
    "#your code here"
   ]
  },
  {
   "cell_type": "markdown",
   "metadata": {
    "id": "uII2Fmc2Wj8_"
   },
   "source": [
    "# Часть 1. Работа с переменными."
   ]
  },
  {
   "cell_type": "markdown",
   "metadata": {
    "id": "fIdck6zcWj9A"
   },
   "source": [
    "В этой части мы научимся обрабатывать категориальные переменные, так как закодировать их в виде чисел недостаточно (это задаёт некоторый порядок, которого на категориальных переменных может и не быть). Существует два основных способа обработки категориальных значений:\n",
    "- One-hot-кодирование\n",
    "- Счётчики (CTR, mean-target кодирование, ...) — каждый категориальный признак заменяется на среднее значение целевой переменной по всем объектам, имеющим одинаковое значение в этом признаке.\n",
    "\n",
    "Начнём с one-hot-кодирования. Допустим наш категориальный признак $f_j(x)$ принимает значения из множества $C=\\{c_1, \\dots, c_m\\}$. Заменим его на $m$ бинарных признаков $b_1(x), \\dots, b_m(x)$, каждый из которых является индикатором одного из возможных категориальных значений:\n",
    "$$\n",
    "b_i(x) = [f_j(x) = c_i]\n",
    "$$"
   ]
  },
  {
   "cell_type": "markdown",
   "metadata": {
    "id": "pDpvH_d9Wj9A"
   },
   "source": [
    "__Подготовка данных.__\n",
    "\n",
    "Загрузим данные [UCI Bank Marketing Dataset](https://archive.ics.uci.edu/ml/datasets/bank+marketing). Этот датасет содержит информацию о банковском телефонном маркетинге, объектом в нем является телефонный звонок потенциальному клиенту с предложением некоторой услуги (утверждается, что это краткосрочный депозит), целевой переменной - ответ клиента (согласился ли он открыть депозит?). В качестве признакового описания используются характеристики клиента (образование, брак и т.д.), данные о звонке и различные экономические индикаторы - более подробная информация представлена в файле `bank-additional-names.txt`."
   ]
  },
  {
   "cell_type": "code",
   "execution_count": 16,
   "metadata": {
    "colab": {
     "base_uri": "https://localhost:8080/",
     "height": 268
    },
    "executionInfo": {
     "elapsed": 851,
     "status": "ok",
     "timestamp": 1649347733383,
     "user": {
      "displayName": "Slav Petrovich",
      "userId": "15467771659501997370"
     },
     "user_tz": -180
    },
    "id": "YiHyVPjrWj9B",
    "outputId": "6841c7e7-03bc-4598-9d7f-b41e81eb43ff"
   },
   "outputs": [
    {
     "data": {
      "text/html": [
       "\n",
       "  <div id=\"df-04642a2b-a601-4fe1-b232-da41cc04767c\">\n",
       "    <div class=\"colab-df-container\">\n",
       "      <div>\n",
       "<style scoped>\n",
       "    .dataframe tbody tr th:only-of-type {\n",
       "        vertical-align: middle;\n",
       "    }\n",
       "\n",
       "    .dataframe tbody tr th {\n",
       "        vertical-align: top;\n",
       "    }\n",
       "\n",
       "    .dataframe thead th {\n",
       "        text-align: right;\n",
       "    }\n",
       "</style>\n",
       "<table border=\"1\" class=\"dataframe\">\n",
       "  <thead>\n",
       "    <tr style=\"text-align: right;\">\n",
       "      <th></th>\n",
       "      <th>age</th>\n",
       "      <th>job</th>\n",
       "      <th>marital</th>\n",
       "      <th>education</th>\n",
       "      <th>default</th>\n",
       "      <th>housing</th>\n",
       "      <th>loan</th>\n",
       "      <th>contact</th>\n",
       "      <th>month</th>\n",
       "      <th>day_of_week</th>\n",
       "      <th>duration</th>\n",
       "      <th>campaign</th>\n",
       "      <th>pdays</th>\n",
       "      <th>previous</th>\n",
       "      <th>poutcome</th>\n",
       "      <th>emp.var.rate</th>\n",
       "      <th>cons.price.idx</th>\n",
       "      <th>cons.conf.idx</th>\n",
       "      <th>euribor3m</th>\n",
       "      <th>nr.employed</th>\n",
       "      <th>y</th>\n",
       "    </tr>\n",
       "  </thead>\n",
       "  <tbody>\n",
       "    <tr>\n",
       "      <th>0</th>\n",
       "      <td>56</td>\n",
       "      <td>housemaid</td>\n",
       "      <td>married</td>\n",
       "      <td>basic.4y</td>\n",
       "      <td>no</td>\n",
       "      <td>no</td>\n",
       "      <td>no</td>\n",
       "      <td>telephone</td>\n",
       "      <td>may</td>\n",
       "      <td>mon</td>\n",
       "      <td>261</td>\n",
       "      <td>1</td>\n",
       "      <td>999</td>\n",
       "      <td>0</td>\n",
       "      <td>nonexistent</td>\n",
       "      <td>1.1</td>\n",
       "      <td>93.994</td>\n",
       "      <td>-36.4</td>\n",
       "      <td>4.857</td>\n",
       "      <td>5191.0</td>\n",
       "      <td>no</td>\n",
       "    </tr>\n",
       "    <tr>\n",
       "      <th>1</th>\n",
       "      <td>57</td>\n",
       "      <td>services</td>\n",
       "      <td>married</td>\n",
       "      <td>high.school</td>\n",
       "      <td>unknown</td>\n",
       "      <td>no</td>\n",
       "      <td>no</td>\n",
       "      <td>telephone</td>\n",
       "      <td>may</td>\n",
       "      <td>mon</td>\n",
       "      <td>149</td>\n",
       "      <td>1</td>\n",
       "      <td>999</td>\n",
       "      <td>0</td>\n",
       "      <td>nonexistent</td>\n",
       "      <td>1.1</td>\n",
       "      <td>93.994</td>\n",
       "      <td>-36.4</td>\n",
       "      <td>4.857</td>\n",
       "      <td>5191.0</td>\n",
       "      <td>no</td>\n",
       "    </tr>\n",
       "    <tr>\n",
       "      <th>2</th>\n",
       "      <td>37</td>\n",
       "      <td>services</td>\n",
       "      <td>married</td>\n",
       "      <td>high.school</td>\n",
       "      <td>no</td>\n",
       "      <td>yes</td>\n",
       "      <td>no</td>\n",
       "      <td>telephone</td>\n",
       "      <td>may</td>\n",
       "      <td>mon</td>\n",
       "      <td>226</td>\n",
       "      <td>1</td>\n",
       "      <td>999</td>\n",
       "      <td>0</td>\n",
       "      <td>nonexistent</td>\n",
       "      <td>1.1</td>\n",
       "      <td>93.994</td>\n",
       "      <td>-36.4</td>\n",
       "      <td>4.857</td>\n",
       "      <td>5191.0</td>\n",
       "      <td>no</td>\n",
       "    </tr>\n",
       "    <tr>\n",
       "      <th>3</th>\n",
       "      <td>40</td>\n",
       "      <td>admin.</td>\n",
       "      <td>married</td>\n",
       "      <td>basic.6y</td>\n",
       "      <td>no</td>\n",
       "      <td>no</td>\n",
       "      <td>no</td>\n",
       "      <td>telephone</td>\n",
       "      <td>may</td>\n",
       "      <td>mon</td>\n",
       "      <td>151</td>\n",
       "      <td>1</td>\n",
       "      <td>999</td>\n",
       "      <td>0</td>\n",
       "      <td>nonexistent</td>\n",
       "      <td>1.1</td>\n",
       "      <td>93.994</td>\n",
       "      <td>-36.4</td>\n",
       "      <td>4.857</td>\n",
       "      <td>5191.0</td>\n",
       "      <td>no</td>\n",
       "    </tr>\n",
       "    <tr>\n",
       "      <th>4</th>\n",
       "      <td>56</td>\n",
       "      <td>services</td>\n",
       "      <td>married</td>\n",
       "      <td>high.school</td>\n",
       "      <td>no</td>\n",
       "      <td>no</td>\n",
       "      <td>yes</td>\n",
       "      <td>telephone</td>\n",
       "      <td>may</td>\n",
       "      <td>mon</td>\n",
       "      <td>307</td>\n",
       "      <td>1</td>\n",
       "      <td>999</td>\n",
       "      <td>0</td>\n",
       "      <td>nonexistent</td>\n",
       "      <td>1.1</td>\n",
       "      <td>93.994</td>\n",
       "      <td>-36.4</td>\n",
       "      <td>4.857</td>\n",
       "      <td>5191.0</td>\n",
       "      <td>no</td>\n",
       "    </tr>\n",
       "  </tbody>\n",
       "</table>\n",
       "</div>\n",
       "      <button class=\"colab-df-convert\" onclick=\"convertToInteractive('df-04642a2b-a601-4fe1-b232-da41cc04767c')\"\n",
       "              title=\"Convert this dataframe to an interactive table.\"\n",
       "              style=\"display:none;\">\n",
       "        \n",
       "  <svg xmlns=\"http://www.w3.org/2000/svg\" height=\"24px\"viewBox=\"0 0 24 24\"\n",
       "       width=\"24px\">\n",
       "    <path d=\"M0 0h24v24H0V0z\" fill=\"none\"/>\n",
       "    <path d=\"M18.56 5.44l.94 2.06.94-2.06 2.06-.94-2.06-.94-.94-2.06-.94 2.06-2.06.94zm-11 1L8.5 8.5l.94-2.06 2.06-.94-2.06-.94L8.5 2.5l-.94 2.06-2.06.94zm10 10l.94 2.06.94-2.06 2.06-.94-2.06-.94-.94-2.06-.94 2.06-2.06.94z\"/><path d=\"M17.41 7.96l-1.37-1.37c-.4-.4-.92-.59-1.43-.59-.52 0-1.04.2-1.43.59L10.3 9.45l-7.72 7.72c-.78.78-.78 2.05 0 2.83L4 21.41c.39.39.9.59 1.41.59.51 0 1.02-.2 1.41-.59l7.78-7.78 2.81-2.81c.8-.78.8-2.07 0-2.86zM5.41 20L4 18.59l7.72-7.72 1.47 1.35L5.41 20z\"/>\n",
       "  </svg>\n",
       "      </button>\n",
       "      \n",
       "  <style>\n",
       "    .colab-df-container {\n",
       "      display:flex;\n",
       "      flex-wrap:wrap;\n",
       "      gap: 12px;\n",
       "    }\n",
       "\n",
       "    .colab-df-convert {\n",
       "      background-color: #E8F0FE;\n",
       "      border: none;\n",
       "      border-radius: 50%;\n",
       "      cursor: pointer;\n",
       "      display: none;\n",
       "      fill: #1967D2;\n",
       "      height: 32px;\n",
       "      padding: 0 0 0 0;\n",
       "      width: 32px;\n",
       "    }\n",
       "\n",
       "    .colab-df-convert:hover {\n",
       "      background-color: #E2EBFA;\n",
       "      box-shadow: 0px 1px 2px rgba(60, 64, 67, 0.3), 0px 1px 3px 1px rgba(60, 64, 67, 0.15);\n",
       "      fill: #174EA6;\n",
       "    }\n",
       "\n",
       "    [theme=dark] .colab-df-convert {\n",
       "      background-color: #3B4455;\n",
       "      fill: #D2E3FC;\n",
       "    }\n",
       "\n",
       "    [theme=dark] .colab-df-convert:hover {\n",
       "      background-color: #434B5C;\n",
       "      box-shadow: 0px 1px 3px 1px rgba(0, 0, 0, 0.15);\n",
       "      filter: drop-shadow(0px 1px 2px rgba(0, 0, 0, 0.3));\n",
       "      fill: #FFFFFF;\n",
       "    }\n",
       "  </style>\n",
       "\n",
       "      <script>\n",
       "        const buttonEl =\n",
       "          document.querySelector('#df-04642a2b-a601-4fe1-b232-da41cc04767c button.colab-df-convert');\n",
       "        buttonEl.style.display =\n",
       "          google.colab.kernel.accessAllowed ? 'block' : 'none';\n",
       "\n",
       "        async function convertToInteractive(key) {\n",
       "          const element = document.querySelector('#df-04642a2b-a601-4fe1-b232-da41cc04767c');\n",
       "          const dataTable =\n",
       "            await google.colab.kernel.invokeFunction('convertToInteractive',\n",
       "                                                     [key], {});\n",
       "          if (!dataTable) return;\n",
       "\n",
       "          const docLinkHtml = 'Like what you see? Visit the ' +\n",
       "            '<a target=\"_blank\" href=https://colab.research.google.com/notebooks/data_table.ipynb>data table notebook</a>'\n",
       "            + ' to learn more about interactive tables.';\n",
       "          element.innerHTML = '';\n",
       "          dataTable['output_type'] = 'display_data';\n",
       "          await google.colab.output.renderOutput(dataTable, element);\n",
       "          const docLink = document.createElement('div');\n",
       "          docLink.innerHTML = docLinkHtml;\n",
       "          element.appendChild(docLink);\n",
       "        }\n",
       "      </script>\n",
       "    </div>\n",
       "  </div>\n",
       "  "
      ],
      "text/plain": [
       "   age        job  marital    education  default housing loan    contact  \\\n",
       "0   56  housemaid  married     basic.4y       no      no   no  telephone   \n",
       "1   57   services  married  high.school  unknown      no   no  telephone   \n",
       "2   37   services  married  high.school       no     yes   no  telephone   \n",
       "3   40     admin.  married     basic.6y       no      no   no  telephone   \n",
       "4   56   services  married  high.school       no      no  yes  telephone   \n",
       "\n",
       "  month day_of_week  duration  campaign  pdays  previous     poutcome  \\\n",
       "0   may         mon       261         1    999         0  nonexistent   \n",
       "1   may         mon       149         1    999         0  nonexistent   \n",
       "2   may         mon       226         1    999         0  nonexistent   \n",
       "3   may         mon       151         1    999         0  nonexistent   \n",
       "4   may         mon       307         1    999         0  nonexistent   \n",
       "\n",
       "   emp.var.rate  cons.price.idx  cons.conf.idx  euribor3m  nr.employed   y  \n",
       "0           1.1          93.994          -36.4      4.857       5191.0  no  \n",
       "1           1.1          93.994          -36.4      4.857       5191.0  no  \n",
       "2           1.1          93.994          -36.4      4.857       5191.0  no  \n",
       "3           1.1          93.994          -36.4      4.857       5191.0  no  \n",
       "4           1.1          93.994          -36.4      4.857       5191.0  no  "
      ]
     },
     "execution_count": 16,
     "metadata": {},
     "output_type": "execute_result"
    }
   ],
   "source": [
    "!wget https://archive.ics.uci.edu/ml/machine-learning-databases/00222/bank-additional.zip -q\n",
    "!unzip -q -o bank-additional.zip\n",
    "!rm bank-additional.zip\n",
    "df = pd.read_csv('bank-additional/bank-additional-full.csv', sep=';')\n",
    "df.head()"
   ]
  },
  {
   "cell_type": "markdown",
   "metadata": {
    "id": "hQG3D7xuWj9D"
   },
   "source": [
    "__Задание 3 (0.5 балла).__ Разделите выборку на обучающую и тестовую в соотношении 3:1. Зафиксируйте `random_state=777`, также используйте `stratify`. Один из столбцов в данных не несет информации для решения задачи — какой? \n",
    "Отбросьте его.\n",
    "\n",
    "__Ответ__:`duration`, т.к. информация о продолжительности звонка становится известной только одновременно с целевой переменной (решением клиента открыть депозит)"
   ]
  },
  {
   "cell_type": "code",
   "execution_count": 17,
   "metadata": {
    "executionInfo": {
     "elapsed": 10,
     "status": "ok",
     "timestamp": 1649347733384,
     "user": {
      "displayName": "Slav Petrovich",
      "userId": "15467771659501997370"
     },
     "user_tz": -180
    },
    "id": "LNkuUQGbWj9D"
   },
   "outputs": [],
   "source": [
    "#your code here\n",
    "df.loc[:, 'y'] = df.y.map({'no': 0, 'yes': 1})\n",
    "df.drop(['duration'], axis=1, inplace=True)\n",
    "X_train, X_test, y_train, y_test = train_test_split(df.iloc[:, :-1], df.loc[:, 'y'], test_size=0.25, random_state=777, stratify=df.loc[:, 'y'])"
   ]
  },
  {
   "cell_type": "markdown",
   "metadata": {
    "id": "GdyuwTf6Wj9E"
   },
   "source": [
    "Закодируйте категориальные признаки с помощью `OrdinalEncoder`. Посчитайте качество (в этом задании будем работать c `AUC-PR`) при применении логистической регрессии. Замерьте время, потребовавшееся на обучение модели (с учетом кодирования признаков).\n",
    "\n",
    "__Вопрос__: почему в данном задании мы выбрали метрикой именно `AUC-PR`, а не, к примеру, `AUC-ROC`?\n",
    "\n",
    "__Ваш ответ__: потому что классы сильно разбалансированы"
   ]
  },
  {
   "cell_type": "code",
   "execution_count": 18,
   "metadata": {
    "colab": {
     "base_uri": "https://localhost:8080/"
    },
    "executionInfo": {
     "elapsed": 2237,
     "status": "ok",
     "timestamp": 1649347735614,
     "user": {
      "displayName": "Slav Petrovich",
      "userId": "15467771659501997370"
     },
     "user_tz": -180
    },
    "id": "K4CSWOhYWj9F",
    "outputId": "166646f4-0d04-4743-b90f-3b12e71356f6"
   },
   "outputs": [
    {
     "data": {
      "text/plain": [
       "{'C': 1.0}"
      ]
     },
     "execution_count": 18,
     "metadata": {},
     "output_type": "execute_result"
    }
   ],
   "source": [
    "#your code here\n",
    "from sklearn.preprocessing import OrdinalEncoder\n",
    "from sklearn.preprocessing import StandardScaler\n",
    "\n",
    "from sklearn.compose import ColumnTransformer\n",
    "from sklearn.pipeline import make_pipeline\n",
    "\n",
    "categorical_cols = X_train.select_dtypes(include='object').columns.append(pd.Index(['pdays', 'previous']))\n",
    "numerical_cols = X_train.columns.drop(categorical_cols)\n",
    "\n",
    "preprocessor = ColumnTransformer(\n",
    "    transformers=[\n",
    "        ('numerical', StandardScaler(), numerical_cols),\n",
    "        ('categorical', OrdinalEncoder(), categorical_cols)\n",
    "    ]\n",
    ")\n",
    "\n",
    "searcher = GridSearchCV(\n",
    "    estimator=LogisticRegression(penalty='l2', solver='liblinear', max_iter=300), \n",
    "    param_grid={'C': np.logspace(-3, 0, 4)},\n",
    "    scoring='average_precision', cv=3, refit=False, n_jobs=-1\n",
    ")\n",
    "\n",
    "searcher.fit(preprocessor.fit_transform(X_train), y_train)\n",
    "searcher.best_params_"
   ]
  },
  {
   "cell_type": "code",
   "execution_count": 19,
   "metadata": {
    "colab": {
     "base_uri": "https://localhost:8080/"
    },
    "executionInfo": {
     "elapsed": 341,
     "status": "ok",
     "timestamp": 1649347735948,
     "user": {
      "displayName": "Slav Petrovich",
      "userId": "15467771659501997370"
     },
     "user_tz": -180
    },
    "id": "3Iu9TkTV8fly",
    "outputId": "16e32c55-4385-4e55-b37a-78acbd06cc57"
   },
   "outputs": [
    {
     "name": "stdout",
     "output_type": "stream",
     "text": [
      "AUC-PR: 0.4426; time(ms): 436.52\n"
     ]
    }
   ],
   "source": [
    "import time\n",
    "\n",
    "pipeline = make_pipeline(\n",
    "    preprocessor, \n",
    "    LogisticRegression(penalty='l2', C=searcher.best_params_['C'], solver='liblinear', max_iter=300)\n",
    ")\n",
    "\n",
    "start = time.time()\n",
    "pipeline.fit(X_train, y_train)\n",
    "delta = time.time() - start\n",
    "\n",
    "y_prob = pipeline.predict_proba(X_test)[:, 1]\n",
    "prec, rec, _ = precision_recall_curve(y_test, y_prob, pos_label=1)\n",
    "\n",
    "print(f\"AUC-PR:{auc(rec, prec): .4f}; time(ms):{delta*1000 : .2f}\")"
   ]
  },
  {
   "cell_type": "markdown",
   "metadata": {
    "id": "nr6qN50UWj9H"
   },
   "source": [
    "__Задание 4 (0.5 балла).__ Закодируйте все категориальные признаки с помощью one-hot-кодирования. Обучите логистическую регрессию и посмотрите, как изменилось качество модели (с тем, что было до кодирования). Измерьте время, потребовавшееся на кодирование категориальных признаков и обучение модели.\n",
    "\n"
   ]
  },
  {
   "cell_type": "code",
   "execution_count": 20,
   "metadata": {
    "colab": {
     "base_uri": "https://localhost:8080/"
    },
    "executionInfo": {
     "elapsed": 7009,
     "status": "ok",
     "timestamp": 1649347742954,
     "user": {
      "displayName": "Slav Petrovich",
      "userId": "15467771659501997370"
     },
     "user_tz": -180
    },
    "id": "o7RF2EJ0Wj9I",
    "outputId": "a3e0bc09-33ae-4e42-86d0-3a4b722aae22"
   },
   "outputs": [
    {
     "data": {
      "text/plain": [
       "{'C': 0.1, 'penalty': 'l1'}"
      ]
     },
     "execution_count": 20,
     "metadata": {},
     "output_type": "execute_result"
    }
   ],
   "source": [
    "#your code here\n",
    "from sklearn.preprocessing import OneHotEncoder\n",
    "\n",
    "preprocessor = ColumnTransformer(\n",
    "        transformers=[\n",
    "        ('numerical', StandardScaler(), numerical_cols),\n",
    "        ('categorical', OneHotEncoder(), categorical_cols)\n",
    "    ]\n",
    ")\n",
    "\n",
    "searcher = GridSearchCV(\n",
    "    estimator=LogisticRegression(solver='liblinear', max_iter=300), \n",
    "    param_grid={'penalty': ['l2', 'l1'], 'C': np.logspace(-3, 0, 4)},\n",
    "    scoring='average_precision', cv=3, refit=False, n_jobs=-1\n",
    ")\n",
    "\n",
    "searcher.fit(preprocessor.fit_transform(X_train, y_train), y_train)\n",
    "searcher.best_params_"
   ]
  },
  {
   "cell_type": "code",
   "execution_count": 21,
   "metadata": {
    "colab": {
     "base_uri": "https://localhost:8080/"
    },
    "executionInfo": {
     "elapsed": 723,
     "status": "ok",
     "timestamp": 1649347743669,
     "user": {
      "displayName": "Slav Petrovich",
      "userId": "15467771659501997370"
     },
     "user_tz": -180
    },
    "id": "sB05i1nsOskI",
    "outputId": "aa10b363-78e8-4cfa-a53f-cba88748e35f"
   },
   "outputs": [
    {
     "name": "stdout",
     "output_type": "stream",
     "text": [
      "AUC-PR: 0.4518, time(ms): 747.62\n"
     ]
    }
   ],
   "source": [
    "pipeline = make_pipeline(\n",
    "    preprocessor, \n",
    "    LogisticRegression(**searcher.best_params_, solver='liblinear', max_iter=300)\n",
    ")\n",
    "\n",
    "start = time.time()\n",
    "pipeline.fit(X_train, y_train)\n",
    "delta = time.time() - start\n",
    "\n",
    "y_prob = pipeline.predict_proba(X_test)[:, 1]\n",
    "prec, rec, _ = precision_recall_curve(y_test, y_prob, pos_label=1)\n",
    "\n",
    "print(f\"AUC-PR:{auc(rec, prec): .4f}, time(ms):{delta*1000 : .2f}\")"
   ]
  },
  {
   "cell_type": "markdown",
   "metadata": {
    "id": "HI-ijkEfWj9L"
   },
   "source": [
    "Как можно было заменить, one-hot-кодирование может сильно увеличивать количество признаков, что сказывается на памяти, особенно, если некоторый признак имеет большое количество значений. Эту проблему решает другой способ кодирования категориальных признаков — mean-target encoding (для простоты будем называть это счётчиками). Основная идея в том, что нам важны не сами категории, а значения целевой переменной, которые имеют объекты этой категории. Каждый категориальный признак мы заменим средним значением целевой переменной по всем объектам этой же категории:\n",
    "$$\n",
    "g_j(x, X) = \\frac{\\sum_{i=1}^{l} [f_j(x) = f_j(x_i)][y_i = +1]}{\\sum_{i=1}^{l} [f_j(x) = f_j(x_i)]}\n",
    "$$\n",
    "\n",
    "__Задание 5 (1 балл).__ Закодируйте категориальные переменные с помощью счётчиков (ровно так, как описано выше без каких-либо хитростей). Обучите логистическую регрессию и посмотрите на качество модели на тестовом множестве. Сравните время обучения с предыдущими экспериментами (с учетом кодирования признаков). Заметили ли вы что-то интересное?\n",
    "\n",
    "\n",
    "__Бонус (1 балл)__: Здесь и далее реализуйте вычисление счетчиков с помощью трансформера (наследуйтесь от классов `BaseEstimator, TransformerMixin` из `sklearn.base`). Обратите внимание, что все вычисления должны быть векторизованными, трансформер не должен модифицировать передаваемую ему выборку inplace, а все необходимые статистики нужно считать только по обучающей выборке в методе `fit`. Ваш трансформер должен принимать при инициализации список из категориальных признаков и изменять только их. \n"
   ]
  },
  {
   "cell_type": "code",
   "execution_count": 22,
   "metadata": {
    "executionInfo": {
     "elapsed": 7,
     "status": "ok",
     "timestamp": 1649347743670,
     "user": {
      "displayName": "Slav Petrovich",
      "userId": "15467771659501997370"
     },
     "user_tz": -180
    },
    "id": "YqyP6ZaaWj9M"
   },
   "outputs": [],
   "source": [
    "#your code here\n",
    "from sklearn.base import BaseEstimator, TransformerMixin\n",
    "\n",
    "class SimpleMeanTargetEncoder(BaseEstimator, TransformerMixin):\n",
    "    def __init__(self):\n",
    "        super().__init__()\n",
    "\n",
    "    # only statistic i.e. scalar value, that is learned on the training set and appliable to test set\n",
    "    def fit(self, X, y):\n",
    "        # np.tile: repeats an array by (num_axis_0_to_repeat, num_axis_1_to_repeat), np.dstack: stack in 3rd dim\n",
    "        xj_y = np.dstack( \n",
    "            ( X.values.T, np.tile(y.values, (X.shape[1], 1)) ) \n",
    "        )\n",
    "        # np.arange(go.shape[0])[:,np.newaxis] generates list of indices to index trough each feature array of [feature, target] with sort indices\n",
    "        # np.newaxis <-> None-synonym for indexing at non-existing axis \n",
    "        xj_y = xj_y[np.arange(xj_y.shape[0])[:,np.newaxis], xj_y[:, :, 0].argsort(), :]\n",
    "        self.list_dicts_mean = [self._feature_mean_count(feature_target) for feature_target in xj_y]\n",
    "        return self\n",
    "    \n",
    "    def _feature_mean_count(self, feature_target):\n",
    "        return dict(\n",
    "            map(\n",
    "                lambda x: (x[0,0], x[:, 1].mean()), np.split(feature_target, np.unique(feature_target[:, 0], return_index=True)[1][1:])\n",
    "            )\n",
    "        )\n",
    "\n",
    "    def transform(self, X):\n",
    "        return np.array([self._feature_mean_transform(xj, mean_targetj) for xj, mean_targetj in zip(X.values.T, self.list_dicts_mean)]).T\n",
    "\n",
    "    def _feature_mean_transform(self, col, mean_col_stats):\n",
    "        return np.where(\n",
    "            np.isin(col, list(mean_col_stats.keys())), \n",
    "            np.vectorize(mean_col_stats.get)(col), \n",
    "            0.5\n",
    "        )"
   ]
  },
  {
   "cell_type": "code",
   "execution_count": 23,
   "metadata": {
    "colab": {
     "base_uri": "https://localhost:8080/"
    },
    "executionInfo": {
     "elapsed": 1566,
     "status": "ok",
     "timestamp": 1649347745231,
     "user": {
      "displayName": "Slav Petrovich",
      "userId": "15467771659501997370"
     },
     "user_tz": -180
    },
    "id": "FQdLgNAIh-P6",
    "outputId": "907dac65-7178-495c-c391-f2baac1f35d3"
   },
   "outputs": [
    {
     "data": {
      "text/plain": [
       "{'C': 1.0}"
      ]
     },
     "execution_count": 23,
     "metadata": {},
     "output_type": "execute_result"
    }
   ],
   "source": [
    "preprocessor = ColumnTransformer(\n",
    "        transformers=[\n",
    "        ('numerical', StandardScaler(), numerical_cols),\n",
    "        ('categorical', SimpleMeanTargetEncoder(), categorical_cols)\n",
    "    ]\n",
    ")\n",
    "\n",
    "searcher = GridSearchCV(\n",
    "    estimator=LogisticRegression(penalty='l2', solver='liblinear', max_iter=300), \n",
    "    param_grid={'C': np.logspace(-3, 0, 4)},\n",
    "    scoring='average_precision', cv=3, refit=False, n_jobs=-1\n",
    ")\n",
    "\n",
    "searcher.fit(preprocessor.fit_transform(X_train, y_train), y_train)\n",
    "searcher.best_params_"
   ]
  },
  {
   "cell_type": "code",
   "execution_count": 24,
   "metadata": {
    "colab": {
     "base_uri": "https://localhost:8080/"
    },
    "executionInfo": {
     "elapsed": 689,
     "status": "ok",
     "timestamp": 1649347745914,
     "user": {
      "displayName": "Slav Petrovich",
      "userId": "15467771659501997370"
     },
     "user_tz": -180
    },
    "id": "nGc9kQhD4RW1",
    "outputId": "510dcee5-e0e9-4d04-fcc6-0e637d178432"
   },
   "outputs": [
    {
     "name": "stdout",
     "output_type": "stream",
     "text": [
      "AUC-PR: 0.4385, time(ms): 649.53\n"
     ]
    }
   ],
   "source": [
    "pipeline = make_pipeline(\n",
    "    preprocessor, \n",
    "    LogisticRegression(**searcher.best_params_, solver='liblinear', max_iter=300)\n",
    ")\n",
    "\n",
    "start = time.time()\n",
    "pipeline.fit(X_train, y_train)\n",
    "delta = time.time() - start\n",
    "\n",
    "y_prob = pipeline.predict_proba(X_test)[:, 1]\n",
    "prec, rec, _ = precision_recall_curve(y_test, y_prob, pos_label=1)\n",
    "\n",
    "print(f\"AUC-PR:{auc(rec, prec): .4f}, time(ms):{delta*1000 : .2f}\")"
   ]
  },
  {
   "cell_type": "markdown",
   "metadata": {
    "id": "qtqTQ8ZnWj9N"
   },
   "source": [
    "Отметим, что такие признаки сами по себе являются классификаторами и, обучаясь на них, мы допускаем \"утечку\" целевой переменной в признаки. Это ведёт к переобучению, поэтому считать такие признаки необходимо таким образом, чтобы при вычислении для конкретного объекта его целевая метка не использовалась. Это можно делать следующими способами:\n",
    "1. Вычислять значение счётчика по всем объектам расположенным выше в датасете (например, если у нас выборка отсортирована по времени).\n",
    "2. Вычислять по фолдам, то есть делить выборку на некоторое количество частей и подсчитывать значение признаков по всем фолдам кроме текущего (как делается в кросс-валидации).\n",
    "3. Внесение некоторого шума в посчитанные признаки. \n",
    "\n",
    "__Задание 6.__ Реализуйте корректное вычисление счётчиков самым простым способом — добавление шума к значениям (постарайтесь найти баланс между борьбой с переобучением и сохранением полезности признаков). Снова обучите логистическую регрессию, оцените качество. Сделайте выводы.\n",
    "\n",
    "__(0.5 балла)__"
   ]
  },
  {
   "cell_type": "code",
   "execution_count": 25,
   "metadata": {
    "executionInfo": {
     "elapsed": 11,
     "status": "ok",
     "timestamp": 1649347745915,
     "user": {
      "displayName": "Slav Petrovich",
      "userId": "15467771659501997370"
     },
     "user_tz": -180
    },
    "id": "CJZDl29kWj9O"
   },
   "outputs": [],
   "source": [
    "#your code here\n",
    "class NoiseMeanTargetEncoder(SimpleMeanTargetEncoder):\n",
    "    def __init__(self):\n",
    "        super().__init__()\n",
    "        self.rng_ = np.random.default_rng()\n",
    "\n",
    "    def _feature_mean_count(self, feature_target):\n",
    "        return dict(\n",
    "            map(\n",
    "                lambda x: (x[0,0], self.rng_.uniform() + x[:, 1].mean()), np.split(feature_target, np.unique(feature_target[:, 0], return_index=True)[1][1:])\n",
    "            )\n",
    "        )"
   ]
  },
  {
   "cell_type": "code",
   "execution_count": 26,
   "metadata": {
    "colab": {
     "base_uri": "https://localhost:8080/"
    },
    "executionInfo": {
     "elapsed": 768,
     "status": "ok",
     "timestamp": 1649347746675,
     "user": {
      "displayName": "Slav Petrovich",
      "userId": "15467771659501997370"
     },
     "user_tz": -180
    },
    "id": "uZymvveYePb5",
    "outputId": "ff128c19-d3c1-4f0b-a732-02f052ca928c"
   },
   "outputs": [
    {
     "name": "stdout",
     "output_type": "stream",
     "text": [
      "AUC-PR: 0.4308, time(ms): 658.25\n"
     ]
    }
   ],
   "source": [
    "preprocessor = ColumnTransformer(\n",
    "        transformers=[\n",
    "        ('numerical', StandardScaler(), numerical_cols),\n",
    "        ('categorical', NoiseMeanTargetEncoder(), categorical_cols)\n",
    "    ]\n",
    ")\n",
    "pipeline = make_pipeline(\n",
    "    preprocessor, \n",
    "    LogisticRegression(**searcher.best_params_, solver='liblinear', max_iter=300)\n",
    ")\n",
    "start = time.time()\n",
    "pipeline.fit(X_train, y_train)\n",
    "delta = time.time() - start\n",
    "\n",
    "y_prob = pipeline.predict_proba(X_test)[:, 1]\n",
    "prec, rec, _ = precision_recall_curve(y_test, y_prob, pos_label=1)\n",
    "\n",
    "print(f\"AUC-PR:{auc(rec, prec): .4f}, time(ms):{delta*1000 : .2f}\")"
   ]
  },
  {
   "cell_type": "markdown",
   "metadata": {
    "id": "DT8X9zYwWj9O"
   },
   "source": [
    "__(Бонусная часть, 0.5 балла)__ Посчитайте корректные счётчики первым или вторым способов из описанных выше (не забудьте добавить и шум). \n",
    "\n"
   ]
  },
  {
   "cell_type": "code",
   "execution_count": 27,
   "metadata": {
    "executionInfo": {
     "elapsed": 24,
     "status": "ok",
     "timestamp": 1649347746679,
     "user": {
      "displayName": "Slav Petrovich",
      "userId": "15467771659501997370"
     },
     "user_tz": -180
    },
    "id": "ULyEQTfdWj9P"
   },
   "outputs": [],
   "source": [
    "#your code here"
   ]
  },
  {
   "cell_type": "markdown",
   "metadata": {
    "id": "msSpq5bhWj9Q"
   },
   "source": [
    "А теперь ответьте на следующий вопрос: что будет, если некоторая категория встречается в выборке всего несколько раз? По этой причине производится сглаживание счётчиков. Например, на практике хорошие результаты показывает использование сглаживания средним по всей выборке:\n",
    "$$\n",
    "g_j(x, X) = \\frac{\\sum_{i=1}^{\\ell} [f_j(x) = f_j(x_i)][y_i = +1] + C \\times global\\_mean}{\\sum_{i=1}^{\\ell} [f_j(x) = f_j(x_i)] + C}\n",
    "$$\n",
    "где $global\\_mean$ — доля объектов положительного класса в выборке, $C$ — параметр, определяющий степень сглаживания (например, можно использовать 10 или подобрать для каждого признака свой). Основная идея в том, что мы \"разбавляем\" среднее значение по некоторой категории глобальным средним значением. И тем меньше, чем большее количество объектов этой категории встречается в выборке. \n",
    "\n",
    "Однако для сглаживания вместо среднего значения целевой переменной можно использовать любое другое значение от 0 до 1 (этот параметр иногда называют $prior$). Можно сделать несколько признаков с разными значениями параметра. На практике в задачах бинарной классификации полезными бывают даже отрицательные значения!\n"
   ]
  },
  {
   "cell_type": "markdown",
   "metadata": {
    "id": "k_-mGDYYWj9R"
   },
   "source": [
    "__Задание 7 (1 балл).__ Добавьте сглаживание, описанное выше и повторите эксперименты."
   ]
  },
  {
   "cell_type": "code",
   "execution_count": 28,
   "metadata": {
    "executionInfo": {
     "elapsed": 25,
     "status": "ok",
     "timestamp": 1649347746683,
     "user": {
      "displayName": "Slav Petrovich",
      "userId": "15467771659501997370"
     },
     "user_tz": -180
    },
    "id": "NbwmJiIjWj9S"
   },
   "outputs": [],
   "source": [
    "#your code here\n"
   ]
  },
  {
   "cell_type": "markdown",
   "metadata": {
    "id": "f30MLbJ-Wj9S"
   },
   "source": [
    "__Задание 8 (0.5 балла).__ В данных имеется признак \"возраст клиента\". Сейчас мы интерпретируем его как числовой, что в общем случае для линейной модели может быть неверной гипотезой. Тем не менее, у этого признака есть довольно много уникальных значений (сколько?), поэтому применять к нему one-hot кодирование может оказаться излишним. Попробуйте закодировать возраст с помощью счетчиков. Стало ли лучше?\n",
    "\n"
   ]
  },
  {
   "cell_type": "code",
   "execution_count": 29,
   "metadata": {
    "executionInfo": {
     "elapsed": 25,
     "status": "ok",
     "timestamp": 1649347746684,
     "user": {
      "displayName": "Slav Petrovich",
      "userId": "15467771659501997370"
     },
     "user_tz": -180
    },
    "id": "INZO9QRQWj9T"
   },
   "outputs": [],
   "source": [
    "#your code here\n"
   ]
  },
  {
   "cell_type": "markdown",
   "metadata": {
    "id": "KrwWYNt_Wj9T"
   },
   "source": [
    "Можно пойти и в обратную сторону. У нас есть признаки \"месяц и день недели\" для звонка. Попробуйте интерпретировать их как числовые (месяц от 0 до 12, дни недели от 0 до 4). Стало ли лучше в этот раз?"
   ]
  },
  {
   "cell_type": "code",
   "execution_count": 30,
   "metadata": {
    "executionInfo": {
     "elapsed": 24,
     "status": "ok",
     "timestamp": 1649347746684,
     "user": {
      "displayName": "Slav Petrovich",
      "userId": "15467771659501997370"
     },
     "user_tz": -180
    },
    "id": "zZfxOd1BWj9U"
   },
   "outputs": [],
   "source": [
    "#your code here\n"
   ]
  },
  {
   "cell_type": "markdown",
   "metadata": {
    "id": "vo5zGIp3Wj9U"
   },
   "source": [
    "__Замечание.__ Усложнение методов вычисления счётчиков не делают результаты модели гарантированно лучше. Особенно с учётом того, что логистическая регрессия не такая сложная модель, чтобы переобучаться. Поэтому вы необязательно должны были получать на каждом шаге всё лучшие и лучшие результаты (но необходимые результаты у вас должны были получиться).\n",
    "\n",
    "Как вы должны были заметить, счётчики являются хорошей альтернативой one-hot-кодированию. Напишите, какие плюсы и минусы использования счётчиков по сравнению с one-hot-кодированием вы заметили.\n",
    "\n",
    "__Ответ:__ "
   ]
  },
  {
   "cell_type": "markdown",
   "metadata": {
    "id": "hZ3l9iNkWj9V"
   },
   "source": [
    "# Часть 2. Отбор признаков"
   ]
  },
  {
   "cell_type": "markdown",
   "metadata": {
    "id": "dRRnPbbIWj9W"
   },
   "source": [
    "Важной частью процесса построения модели является отбор признаков. На практике многие признаки оказывают малое влияние на модель (при этом их расчёт занимает время) или даже негативно сказываются на качестве модели. Попробуем несколько подходов отбора признаков, оценим, как они влияют на качество модели и сколько времени занимают.\n",
    "\n",
    "Обратимся к тем же данным про банковский телефонный маркетинг."
   ]
  },
  {
   "cell_type": "code",
   "execution_count": 31,
   "metadata": {
    "executionInfo": {
     "elapsed": 24,
     "status": "ok",
     "timestamp": 1649347746687,
     "user": {
      "displayName": "Slav Petrovich",
      "userId": "15467771659501997370"
     },
     "user_tz": -180
    },
    "id": "qQL80W5DWj9W"
   },
   "outputs": [],
   "source": [
    "df = pd.read_csv('bank-additional/bank-additional-full.csv', sep=';')\n",
    "\n",
    "X = df.drop(columns=['duration', 'y'])\n",
    "y = (df.y == 'yes')\n",
    "\n",
    "X_train, X_test, y_train, y_test = train_test_split(X, y, test_size=0.2, random_state=777, stratify=y)"
   ]
  },
  {
   "cell_type": "markdown",
   "metadata": {
    "id": "Dryr-pfjWj9X"
   },
   "source": [
    "Как вы помните, в данных много категориальных признаков (сейчас давайте интерпретировать возраст как числовой). Давайте закодируем их с помощью one-hot кодирования. Исходные колонки с категориальными признаками можно удалить. Сколько признаков мы получили?"
   ]
  },
  {
   "cell_type": "code",
   "execution_count": 32,
   "metadata": {
    "colab": {
     "base_uri": "https://localhost:8080/"
    },
    "executionInfo": {
     "elapsed": 699,
     "status": "ok",
     "timestamp": 1649347747364,
     "user": {
      "displayName": "Slav Petrovich",
      "userId": "15467771659501997370"
     },
     "user_tz": -180
    },
    "id": "pk3D4BA3Wj9X",
    "outputId": "22840ce7-44cf-47f6-f663-5de9848415a9"
   },
   "outputs": [
    {
     "name": "stdout",
     "output_type": "stream",
     "text": [
      "Amount of features:95\n"
     ]
    }
   ],
   "source": [
    "#your code here\n",
    "categorical_cols = X_train.select_dtypes(include='object').columns.append(pd.Index(['pdays', 'previous']))\n",
    "numerical_cols = X_train.columns.drop(categorical_cols)\n",
    "\n",
    "preprocessor = ColumnTransformer(\n",
    "        transformers=[\n",
    "        ('numerical', StandardScaler(), numerical_cols),\n",
    "        ('categorical', OneHotEncoder(handle_unknown='ignore'), categorical_cols)\n",
    "    ]\n",
    ")\n",
    "\n",
    "start = time.time()\n",
    "X_train_transf = preprocessor.fit_transform(X_train)\n",
    "model = LogisticRegression(solver='liblinear', max_iter=300)\n",
    "model.fit(X_train_transf, y_train)\n",
    "delta = time.time() - start\n",
    "\n",
    "print(f\"Amount of features:{X_train_transf.shape[1]}\")"
   ]
  },
  {
   "cell_type": "markdown",
   "metadata": {
    "id": "NWkZmaQ3Wj9X"
   },
   "source": [
    "В качестве основной модели будем использовать логистическую регрессию, а целевой метрики — `AUC-PR`. Обучите модель и посчитайте качество на тестовой выборке. Давайте запомним полученное значение."
   ]
  },
  {
   "cell_type": "code",
   "execution_count": 33,
   "metadata": {
    "colab": {
     "base_uri": "https://localhost:8080/"
    },
    "executionInfo": {
     "elapsed": 254,
     "status": "ok",
     "timestamp": 1649347747615,
     "user": {
      "displayName": "Slav Petrovich",
      "userId": "15467771659501997370"
     },
     "user_tz": -180
    },
    "id": "X7wgNIklWj9Y",
    "outputId": "b03c6617-da83-4318-d50e-bc6088fb63cd"
   },
   "outputs": [
    {
     "name": "stdout",
     "output_type": "stream",
     "text": [
      "AUC-PR: 0.4445\n"
     ]
    }
   ],
   "source": [
    "#your code here\n",
    "X_test_transf = preprocessor.transform(X_test)\n",
    "y_prob = model.predict_proba(X_test_transf)[:, 1]\n",
    "prec, rec, _ = precision_recall_curve(y_test, y_prob, pos_label=True)\n",
    "auc_pr = auc(rec, prec)\n",
    "print(f\"AUC-PR:{auc_pr: .4f}\")"
   ]
  },
  {
   "cell_type": "markdown",
   "metadata": {
    "id": "M2DiQQQtWj9Y"
   },
   "source": [
    "### Встроенные методы"
   ]
  },
  {
   "cell_type": "markdown",
   "metadata": {
    "id": "ykBYvtxdWj9Z"
   },
   "source": [
    "Допустим, мы хотим оставить только 40 лучших признаков. Попробуем сделать это несколькими способами.\n",
    "\n",
    "Начнём с отборам признаков с помощью линейной модели. Как известно, веса линейной модели означают вклад каждого признака в предсказание модели, а значит, модуль этого вклада можно интерпретировать как важность признаков. Такой метод отбора называются встроенным или embedded method, так как он заложен в особенности модели.\n",
    "\n",
    "__Задание 8 (0.5 балла).__ Оставьте 40 признаков с наибольшим модулем соответствующего параметра линейной модели. Обучите модели заново и оцените её качество. Замерьте скорость такого отбора признаков.\n",
    "\n",
    "Изменилось ли качество? Как?\n",
    "\n"
   ]
  },
  {
   "cell_type": "code",
   "execution_count": 34,
   "metadata": {
    "colab": {
     "base_uri": "https://localhost:8080/"
    },
    "executionInfo": {
     "elapsed": 8,
     "status": "ok",
     "timestamp": 1649347747617,
     "user": {
      "displayName": "Slav Petrovich",
      "userId": "15467771659501997370"
     },
     "user_tz": -180
    },
    "id": "b_PeqPxdWj9Z",
    "outputId": "11c28d3c-34f8-4300-b0a7-65dbf647178c"
   },
   "outputs": [
    {
     "name": "stdout",
     "output_type": "stream",
     "text": [
      "AUC-PR: 0.4418, time(ms): 829.9525\n"
     ]
    }
   ],
   "source": [
    "#your code here\n",
    "start = time.time()\n",
    "top40_ids = np.abs(model.coef_).argsort(axis=1).ravel()[-40:]\n",
    "\n",
    "model = LogisticRegression(solver='liblinear', max_iter=300)\n",
    "model.fit(X_train_transf[:, top40_ids], y_train)\n",
    "delta += time.time() - start\n",
    "\n",
    "y_prob = model.predict_proba(X_test_transf[:, top40_ids])[:, 1]\n",
    "prec, rec, _ = precision_recall_curve(y_test, y_prob, pos_label=True)\n",
    "auc_pr = auc(rec, prec)\n",
    "\n",
    "print(f\"AUC-PR:{auc_pr: .4f}, time(ms):{delta*1000: .4f}\")"
   ]
  },
  {
   "cell_type": "markdown",
   "metadata": {
    "id": "fioMP0OmWj9Z"
   },
   "source": [
    "А теперь давайте подумаем, что мы не учли. Мы предположили, что признаки вносят вклад равномерно, но не учли их масштаба. Если мы умножим один из признаков в 100 раз, то без учёта регуляризации его вес уменьшится в эти же 100 раз. А мы на основе этого отбираем признаки! Давайте сначала отмасштабируем признаки одним из способов, а только потом будем удалять признаки. \n",
    "\n",
    "Кстати, в таком случае надо пересчитать качество на всех признаках (сделайте это ниже). Если вы сделали нормирование признаков в самом начале, то попробуйте отобрать признаки на неотмасштабированных данных.\n",
    "\n",
    "Что получилось?"
   ]
  },
  {
   "cell_type": "code",
   "execution_count": 35,
   "metadata": {
    "colab": {
     "base_uri": "https://localhost:8080/"
    },
    "executionInfo": {
     "elapsed": 524,
     "status": "ok",
     "timestamp": 1649347748136,
     "user": {
      "displayName": "Slav Petrovich",
      "userId": "15467771659501997370"
     },
     "user_tz": -180
    },
    "id": "I26qAH_sWj9a",
    "outputId": "c6322072-8ec6-4912-d9ad-0712297e16f4"
   },
   "outputs": [
    {
     "name": "stdout",
     "output_type": "stream",
     "text": [
      "AUC-PR: 0.4482\n"
     ]
    }
   ],
   "source": [
    "#your code here\n",
    "\n",
    "preprocessor = ColumnTransformer(\n",
    "    transformers=[('categorical', OneHotEncoder(), categorical_cols)],\n",
    "    remainder=\"passthrough\"\n",
    ")\n",
    "\n",
    "X_train_transf = preprocessor.fit_transform(X_train)\n",
    "model = LogisticRegression(solver='liblinear', max_iter=300)\n",
    "model.fit(X_train_transf, y_train)\n",
    "\n",
    "X_test_transf = preprocessor.transform(X_test) \n",
    "y_prob = model.predict_proba(X_test_transf)[:, 1]\n",
    "prec, rec, _ = precision_recall_curve(y_test, y_prob, pos_label=True)\n",
    "auc_pr = auc(rec, prec)\n",
    "print(f\"AUC-PR:{auc_pr: .4f}\")"
   ]
  },
  {
   "cell_type": "code",
   "execution_count": 36,
   "metadata": {
    "colab": {
     "base_uri": "https://localhost:8080/"
    },
    "executionInfo": {
     "elapsed": 379,
     "status": "ok",
     "timestamp": 1649347748512,
     "user": {
      "displayName": "Slav Petrovich",
      "userId": "15467771659501997370"
     },
     "user_tz": -180
    },
    "id": "o334pLglsHGF",
    "outputId": "3cef916a-5810-487a-bef3-fbe40cccc57d"
   },
   "outputs": [
    {
     "name": "stdout",
     "output_type": "stream",
     "text": [
      "AUC-PR: 0.4286\n"
     ]
    }
   ],
   "source": [
    "top40_ids = np.abs(model.coef_).argsort(axis=1).ravel()[-40:]\n",
    "\n",
    "model = LogisticRegression(solver='liblinear', max_iter=300)\n",
    "model.fit(X_train_transf[:, top40_ids], y_train)\n",
    "y_prob = model.predict_proba(X_test_transf[:, top40_ids])[:, 1]\n",
    "prec, rec, _ = precision_recall_curve(y_test, y_prob, pos_label=True)\n",
    "auc_pr = auc(rec, prec)\n",
    "print(f\"AUC-PR:{auc_pr: .4f}\")"
   ]
  },
  {
   "cell_type": "markdown",
   "metadata": {
    "id": "yeXe9rgkWj9a"
   },
   "source": [
    "Вопрос на засыпку: one-hot кодирование возвращает нам единичные признаки-индикаторы. Попробуйте также отскалировать их, как и обычные числовые, и снова выбрать 40 главных по вкладу признаков. Изменился ли их список? Изменится ли качество?"
   ]
  },
  {
   "cell_type": "code",
   "execution_count": 37,
   "metadata": {
    "executionInfo": {
     "elapsed": 13,
     "status": "ok",
     "timestamp": 1649347748516,
     "user": {
      "displayName": "Slav Petrovich",
      "userId": "15467771659501997370"
     },
     "user_tz": -180
    },
    "id": "jkjg8XomWj9a"
   },
   "outputs": [],
   "source": [
    "#your code here"
   ]
  },
  {
   "cell_type": "markdown",
   "metadata": {
    "id": "W_VZUoWBWj9b"
   },
   "source": [
    "### Методы фильтрации\n",
    "\n",
    "\n",
    "Давайте отбирать признаки умнее, а именно через подсчёт некоторой функции для каждого признака. На основании значений этой функции будем оставлять наиболее важные признаки. Методы этого семейства называют фильтрующими или  filter methods. \n",
    "\n",
    "В качестве такой функции будем считать t-статистику:\n",
    "\n",
    "$$t(j) = \\frac{|\\mu_+ - \\mu_-|}{\\sqrt{\\frac{n_+ \\sigma^2_+ + n_- \\sigma^2_-}{n_+ + n_-}}},$$\n",
    "\n",
    "где $\\mu$, $\\sigma$, $n$ соответственно среднее, стандартное отклонение и количество объектов каждого из классов.\n",
    "\n",
    "__Задание 9 (0.5 балла).__ Оставьте 40 признаков с наибольшим значением $t$ и замерьте качество. Не забудьте замерить скорость отбора признаков в этом случае.\n",
    "\n"
   ]
  },
  {
   "cell_type": "code",
   "execution_count": 38,
   "metadata": {
    "colab": {
     "base_uri": "https://localhost:8080/"
    },
    "executionInfo": {
     "elapsed": 293,
     "status": "ok",
     "timestamp": 1649347748798,
     "user": {
      "displayName": "Slav Petrovich",
      "userId": "15467771659501997370"
     },
     "user_tz": -180
    },
    "id": "D7bjNPydWj9b",
    "outputId": "c1402bff-8638-491e-a6dd-5af30cd414db"
   },
   "outputs": [
    {
     "name": "stdout",
     "output_type": "stream",
     "text": [
      "AUC-PR: 0.4464, time(ms): 307.8282\n"
     ]
    }
   ],
   "source": [
    "from scipy.stats import ttest_ind\n",
    "\n",
    "start = time.time()\n",
    "t_score, _ = ttest_ind(X_train_transf[y_train.values].toarray(), X_train_transf[~y_train.values].toarray(), axis=0, equal_var=False)\n",
    "top40_ids = np.abs(t_score).argsort()[-40:]\n",
    "\n",
    "model = LogisticRegression(solver='liblinear', max_iter=300)\n",
    "model.fit(X_train_transf[:, top40_ids], y_train)\n",
    "delta = time.time() - start\n",
    "\n",
    "y_prob = model.predict_proba(X_test_transf[:, top40_ids])[:, 1]\n",
    "prec, rec, _ = precision_recall_curve(y_test, y_prob, pos_label=True)\n",
    "auc_pr = auc(rec, prec)\n",
    "print(f\"AUC-PR:{auc_pr: .4f}, time(ms):{delta*1000: .4f}\")"
   ]
  },
  {
   "cell_type": "markdown",
   "metadata": {
    "id": "X_J2UGQ1Wj9c"
   },
   "source": [
    "### Методы-обёртки\n",
    "\n",
    "__Задание 10 (1 балл).__ \n",
    "\n",
    "Третий из рассматриваемых нами методов работает следующим образом: мы исключаем по очереди один из признаков и смотрим, как это влияет на качество. Удаляем признаки таким жадным способом, пока не окажется выполненым некоторое условие (количество признаков или ухудшение качества).\n",
    "\n",
    "Заметим, что нельзя оценивать качество по тестовой выборке, иначе мы можем переобучиться, как, например, при настройке гиперпараметров. Разделите обучающую выборку на 2 части, на одной из них обучайте модель без одного из признаков,  на второй части оценивайте качество. Исходную тестовую выборку стоит использовать только для финальной оценки качества.\n",
    "\n",
    "Снова оставьте только 40 признаков и оцените качество на тестовой выборке. Сколько времени занял такой отбор признаков?"
   ]
  },
  {
   "cell_type": "code",
   "execution_count": 39,
   "metadata": {
    "executionInfo": {
     "elapsed": 9,
     "status": "ok",
     "timestamp": 1649347748799,
     "user": {
      "displayName": "Slav Petrovich",
      "userId": "15467771659501997370"
     },
     "user_tz": -180
    },
    "id": "tnIdtoDMWj9c"
   },
   "outputs": [],
   "source": [
    "#your code here\n"
   ]
  },
  {
   "cell_type": "markdown",
   "metadata": {
    "id": "5hBxNsuhWj9d"
   },
   "source": [
    "Стоит отметить, что с помощью такого метода можно пойти и в обратную сторону. Попробуйте _добавлять_ по одному самому полезному признаку в выборку до тех пор, пока не наберется 40 штук. Найдется ли порог, при котором добавление следующих признаков будет только ухудшать качество модели?"
   ]
  },
  {
   "cell_type": "code",
   "execution_count": 40,
   "metadata": {
    "executionInfo": {
     "elapsed": 6,
     "status": "ok",
     "timestamp": 1649347748799,
     "user": {
      "displayName": "Slav Petrovich",
      "userId": "15467771659501997370"
     },
     "user_tz": -180
    },
    "id": "fBkkTcAWWj9d"
   },
   "outputs": [],
   "source": [
    "#your code here"
   ]
  },
  {
   "cell_type": "markdown",
   "metadata": {
    "id": "SKe4UgsfWj9e"
   },
   "source": [
    "Давайте подведём итоги по отбору признаков. Назовите преимущества и недостатки каждого из методов. Какой метод привёл к наилучшему качеству?\n",
    "\n",
    "**Ответ:** "
   ]
  },
  {
   "cell_type": "markdown",
   "metadata": {
    "id": "DEbAiqeUWj9e"
   },
   "source": [
    "# Часть 3. Оценка экономического эффекта модели\n",
    "\n",
    "В данной части мы займемся тем, что от вас скорее всего потребуется на реальной работе (помимо перекладки `json`, разумеется). А именно: мы соберем несколько специализированных метрик качества, попытаемся настроить модель на максимизацию _прибыли_ и оценим, сколько вообще получится заработать на этом. Разумеется, здесь будет сделано множество упрощающих жизнь допущений, но обо всем по порядку. \n",
    "\n",
    "__Задание 11 (1 балл).__ Допустим, работники вашего колл-центра получают за один звонок клиенту 1 доллар. При согласии клиента на предлагаемые условия он принесет в банк 10 долларов.\n",
    "\n",
    "Если вы всё прослушали на экономике, то напомним, что выручка — это сколько денег нам принесли клиенты, а прибыль — выручка за вычетом расходов на зарплату и прочее.\n",
    "\n",
    "Загрузите данные о телемаркетинге из предыдущего блока заданий. В этой части не нужно делить выборку - мы будем использовать кросс-валидацию. Используйте 5 фолдов, сделайте `shuffle=True, random_state=500`. По кросс-валидации у вас получится 5 вариантов обучающей и тестовой выборки. Обучите логистическую регрессию на каждой обучающей выборке (воспользуйтесь one-hot для категориальных признаков, гиперпараметры оставьте со значениями по умолчанию) и сделайте предсказания для соответствующих тестовых выборок. Допустим, всем положительным прогнозам ваши сотрудники решили позвонить. Посчитайте на всех тестовых выборках выручку и усредните. Сколько денег вы в среднем заработаете? Также вычислите стандартное отклонение.\n",
    "\n",
    "Сколько из заработанных денег придётся отдать операторам вашего колл-центра?"
   ]
  },
  {
   "cell_type": "code",
   "execution_count": 41,
   "metadata": {
    "executionInfo": {
     "elapsed": 311,
     "status": "ok",
     "timestamp": 1649347749105,
     "user": {
      "displayName": "Slav Petrovich",
      "userId": "15467771659501997370"
     },
     "user_tz": -180
    },
    "id": "Gx8UXaadWj9f"
   },
   "outputs": [],
   "source": [
    "#your code here\n",
    "from sklearn.model_selection import StratifiedKFold\n",
    "\n",
    "df = pd.read_csv('bank-additional/bank-additional-full.csv', sep=';')\n",
    "X = df.drop(columns=['duration', 'y'])\n",
    "y = (df.y == 'yes')\n",
    "\n",
    "cv_fold = StratifiedKFold(n_splits=5, shuffle=True, random_state=500)\n",
    "\n",
    "categoric_cols = X.select_dtypes(\"object\").columns\n",
    "numeric_cols = X.columns.drop(categorical_cols)\n",
    "\n",
    "preprocessor = ColumnTransformer(\n",
    "    transformers=[\n",
    "        ('numeric', StandardScaler(), numeric_cols),\n",
    "        ('categoric', OneHotEncoder(), categoric_cols)\n",
    "    ]\n",
    ")\n",
    "\n",
    "revenue = np.empty(cv_fold.get_n_splits(X, y), dtype=int)\n",
    "expenses = np.empty(cv_fold.get_n_splits(X, y), dtype=int)"
   ]
  },
  {
   "cell_type": "code",
   "execution_count": 42,
   "metadata": {
    "colab": {
     "base_uri": "https://localhost:8080/"
    },
    "executionInfo": {
     "elapsed": 2129,
     "status": "ok",
     "timestamp": 1649347751232,
     "user": {
      "displayName": "Slav Petrovich",
      "userId": "15467771659501997370"
     },
     "user_tz": -180
    },
    "id": "9dvOTXpSww4m",
    "outputId": "954a1fa2-31e0-4176-ee4a-2fe946506f67"
   },
   "outputs": [
    {
     "name": "stdout",
     "output_type": "stream",
     "text": [
      "Avg revenue: 2090.00, std of revenue: 197.28, avg costs: 318.20\n"
     ]
    }
   ],
   "source": [
    "for i, (train_id, test_id) in enumerate(cv_fold.split(X, y)):\n",
    "    pipeline = make_pipeline(preprocessor, LogisticRegression(solver='liblinear', max_iter=300))\n",
    "    pipeline.fit(X.iloc[train_id], y.iloc[train_id])\n",
    "    y_pred = pipeline.predict(X.iloc[test_id])\n",
    "    revenue[i] = 10 * np.sum(y_pred & y.values[test_id])\n",
    "    expenses[i] = np.sum(y_pred)\n",
    "print(f\"Avg revenue:{revenue.mean(): .2f}, std of revenue:{revenue.std(): .2f}, avg costs:{expenses.mean(): .2f}\")"
   ]
  },
  {
   "cell_type": "markdown",
   "metadata": {
    "id": "DKtOBwZlWj9f"
   },
   "source": [
    "Внесем некоторую долю случайности. Пусть теперь согласный на условия клиент будет приносить не 10 долларов, а случайную величину, равномерно распределенную в интервале $[0;20)$. Проделайте все те же самые действия. Для имитации реальной ситуации **НЕ** фиксируйте `random_seed` при подсчете выручки с клиента. Что получилось?"
   ]
  },
  {
   "cell_type": "code",
   "execution_count": 43,
   "metadata": {
    "colab": {
     "base_uri": "https://localhost:8080/"
    },
    "executionInfo": {
     "elapsed": 2189,
     "status": "ok",
     "timestamp": 1649347753416,
     "user": {
      "displayName": "Slav Petrovich",
      "userId": "15467771659501997370"
     },
     "user_tz": -180
    },
    "id": "W_VTCBO0Wj9f",
    "outputId": "b992be70-ddf9-4df3-92c4-2365f2452c91"
   },
   "outputs": [
    {
     "name": "stdout",
     "output_type": "stream",
     "text": [
      "Avg revenue: 2064.20, std of revenue: 217.59, avg costs: 318.20\n"
     ]
    }
   ],
   "source": [
    "#your code here\n",
    "rng = np.random.default_rng()\n",
    "for i, (train_id, test_id) in enumerate(cv_fold.split(X, y)):\n",
    "    pipeline = make_pipeline(preprocessor, LogisticRegression(solver='liblinear', max_iter=300))\n",
    "    pipeline.fit(X.iloc[train_id], y.iloc[train_id])\n",
    "    y_pred = pipeline.predict(X.iloc[test_id])\n",
    "    random_rev = rng.uniform(0, 20, y_pred.shape)\n",
    "    revenue[i] = np.sum(random_rev * (y_pred & y.values[test_id]))\n",
    "    expenses[i] = np.sum(y_pred)\n",
    "print(f\"Avg revenue:{revenue.mean(): .2f}, std of revenue:{revenue.std(): .2f}, avg costs:{expenses.mean(): .2f}\")"
   ]
  },
  {
   "cell_type": "markdown",
   "metadata": {
    "id": "tWqvXZPVWj9g"
   },
   "source": [
    "Настройте по кросс-валидации коэффициент регуляризации модели для максимизации прибыли (считайте как случайную величину выше). Удалось ли получить какой-то выигрыш? При каком коэффициенте регуляризациии прибыль максимальна? Постройте график зависимости ожидаемой прибыли от коэффициента, также укажите стандартные отклонения (вам поможет `plt.errorbar`)."
   ]
  },
  {
   "cell_type": "code",
   "execution_count": 44,
   "metadata": {
    "colab": {
     "base_uri": "https://localhost:8080/",
     "height": 296
    },
    "executionInfo": {
     "elapsed": 18011,
     "status": "ok",
     "timestamp": 1649347771422,
     "user": {
      "displayName": "Slav Petrovich",
      "userId": "15467771659501997370"
     },
     "user_tz": -180
    },
    "id": "GZYaR-peRi3n",
    "outputId": "a425d58a-b01d-4f50-b703-fd6834b68875"
   },
   "outputs": [
    {
     "name": "stdout",
     "output_type": "stream",
     "text": [
      "Best C:  0.17\n"
     ]
    },
    {
     "data": {
      "image/png": "[encoded data removed]",
      "text/plain": [
       "<Figure size 432x288 with 1 Axes>"
      ]
     },
     "metadata": {
      "needs_background": "light"
     },
     "output_type": "display_data"
    }
   ],
   "source": [
    "from sklearn.metrics import make_scorer\n",
    "\n",
    "def profit_func(y_true, y_pred):\n",
    "    random_rev = np.random.uniform(0, 20, y_pred.shape)\n",
    "    return np.sum(random_rev * (y_pred & y_true))\n",
    "\n",
    "profit_scorer = make_scorer(profit_func, greater_is_better=True)\n",
    "pipeline = make_pipeline(preprocessor, LogisticRegression(solver='liblinear', max_iter=300))\n",
    "\n",
    "param_C = np.logspace(-3, 1, 10)\n",
    "\n",
    "searcher = GridSearchCV(\n",
    "    pipeline, \n",
    "    [{ 'logisticregression__C': param_C }], \n",
    "    scoring=profit_scorer, cv=5, n_jobs=-1, refit=False\n",
    ")\n",
    "searcher.fit(X, y)\n",
    "\n",
    "C_best = searcher.best_params_[\"logisticregression__C\"]\n",
    "print(f\"Best C: {C_best: .2f}\")\n",
    "\n",
    "profits = searcher.cv_results_['mean_test_score']\n",
    "plt.plot(param_C, profits, marker='o')\n",
    "plt.xlabel(\"C\")\n",
    "plt.ylabel(\"mean profit\")\n",
    "plt.show();"
   ]
  },
  {
   "cell_type": "markdown",
   "metadata": {
    "id": "H7j58cIaWj9h"
   },
   "source": [
    "Попробуйте запустить перебор несколько раз. Находится ли каждый раз один и тот же \"лучший\" коэффициент? Присутствует ли какая-то закономерность? Какие вы можете сделать из этого выводы?"
   ]
  },
  {
   "cell_type": "code",
   "execution_count": 45,
   "metadata": {
    "executionInfo": {
     "elapsed": 26,
     "status": "ok",
     "timestamp": 1649347771424,
     "user": {
      "displayName": "Slav Petrovich",
      "userId": "15467771659501997370"
     },
     "user_tz": -180
    },
    "id": "K1rrJ7ikWj9h"
   },
   "outputs": [],
   "source": [
    "#your code here"
   ]
  },
  {
   "cell_type": "markdown",
   "metadata": {
    "id": "TpMgkbkXWj9i"
   },
   "source": [
    "__Задание 12 (1 балл).__ Выше мы уже описали примерную экономическую модель вашей задачи. Как вы считаете, что для вашего бизнеса важнее — хороший precision или recall модели? Почему?\n",
    "\n",
    "__Ответ:__ recall. Необходимо отправить как можно больше кредитных предложений. При хорошем precision будет высокая вероятность взятия кредита клиентом, но таких клиентов будет мало\n",
    "\n"
   ]
  },
  {
   "cell_type": "markdown",
   "metadata": {
    "id": "BNxWPPniWj9i"
   },
   "source": [
    "Вспомним, что на самом деле логистическая регрессия предсказывает нам вероятности положительного класса для объекта. Возможно, путем настройки порога бинаризации этих вероятностей мы сможем получить какой-то выигрыш? Проверьте ваши рассуждения выше с помощью настройки порога бинаризации на кросс-валидации для максимизации прибыли. Воспользуйтесь сеткой от 0 до 1 с шагом 0.01. Напомним, что снижение порога дает нам более высокий recall и более низкий precision, и наоборот."
   ]
  },
  {
   "cell_type": "code",
   "execution_count": 46,
   "metadata": {
    "executionInfo": {
     "elapsed": 23,
     "status": "ok",
     "timestamp": 1649347771425,
     "user": {
      "displayName": "Slav Petrovich",
      "userId": "15467771659501997370"
     },
     "user_tz": -180
    },
    "id": "JjE_ZCSUWj9j"
   },
   "outputs": [],
   "source": [
    "#your code here\n"
   ]
  },
  {
   "cell_type": "markdown",
   "metadata": {
    "id": "bTXWSFb_Wj9j"
   },
   "source": [
    "Постройте график зависимости прибыли от порога бинаризации, также отметьте на нем стандартные отклонения. Выделите наилучший порог. \n",
    "\n",
    "\n",
    "__Вопрос:__ Замечаете ли вы какую-то закономерность? Для правильного ответа на этот вопрос попробуйте запустить несколько раз и задумайтесь, почему порог получается в какой-то конкретной области?"
   ]
  },
  {
   "cell_type": "code",
   "execution_count": 47,
   "metadata": {
    "executionInfo": {
     "elapsed": 23,
     "status": "ok",
     "timestamp": 1649347771428,
     "user": {
      "displayName": "Slav Petrovich",
      "userId": "15467771659501997370"
     },
     "user_tz": -180
    },
    "id": "_yAAmHv2Wj9k"
   },
   "outputs": [],
   "source": [
    "#your code here"
   ]
  },
  {
   "cell_type": "markdown",
   "metadata": {
    "id": "XR6vcP_BWj9k"
   },
   "source": [
    "Каковы значения precision и recall на выбранном пороге? Оцените по кросс-валидации. Также вычислите стандартное отклонение."
   ]
  },
  {
   "cell_type": "code",
   "execution_count": 48,
   "metadata": {
    "executionInfo": {
     "elapsed": 22,
     "status": "ok",
     "timestamp": 1649347771429,
     "user": {
      "displayName": "Slav Petrovich",
      "userId": "15467771659501997370"
     },
     "user_tz": -180
    },
    "id": "BiqpNACtWj9l"
   },
   "outputs": [],
   "source": [
    "#your code here"
   ]
  },
  {
   "cell_type": "markdown",
   "metadata": {
    "id": "M7NidDooWj9l"
   },
   "source": [
    "Как вы, вероятно, уже поняли, ваша модель склоняется к более высокому recall. Попробуйте оценить качество модели с помощью `PR-AUC` в зоне recall $\\geq$ 0.5. Сделайте это следующим образом - выберите только те пороги, на которых достигается необходимый recall, затем интерпретируйте отсеченный в единичном квадрате прямоугольник как новый единичный квадрат и посчитайте площадь под отсеченной кривой. "
   ]
  },
  {
   "cell_type": "code",
   "execution_count": 49,
   "metadata": {
    "executionInfo": {
     "elapsed": 22,
     "status": "ok",
     "timestamp": 1649347771432,
     "user": {
      "displayName": "Slav Petrovich",
      "userId": "15467771659501997370"
     },
     "user_tz": -180
    },
    "id": "YhMbI45hWj9m"
   },
   "outputs": [],
   "source": [
    "#your code here"
   ]
  },
  {
   "cell_type": "markdown",
   "metadata": {
    "id": "ppx2lNjSWj9m"
   },
   "source": [
    "__Бонус (0.01 балла):__ что вы кушали в день сдачи данного ДЗ на завтрак?\n",
    "\n",
    "__Ответ:__"
   ]
  },
  {
   "cell_type": "markdown",
   "metadata": {
    "id": "sLMzk0rAWj9m"
   },
   "source": [
    "__Социализационный бонус (0.1 балл).__\n",
    "Введены новые ограничения, занятия теперь дистанционные. Но это не значит, что не надо общаться с друзьями! Созвонитесь в зуме (или любым другим способом) хотя бы с двумя студентами курса МО-1 этого года, приложите скриншот созвона с включенными камерами и напишите очень кратко, на какие темы были беседы.\n",
    "\n",
    "__Ответ:__"
   ]
  }
 ],
 "metadata": {
  "colab": {
   "collapsed_sections": [
    "hZ3l9iNkWj9V",
    "M2DiQQQtWj9Y",
    "W_VZUoWBWj9b",
    "X_J2UGQ1Wj9c"
   ],
   "name": "homework-practice-04-classification.ipynb",
   "provenance": []
  },
  "kernelspec": {
   "display_name": "Python 3 (ipykernel)",
   "language": "python",
   "name": "python3"
  },
  "language_info": {
   "codemirror_mode": {
    "name": "ipython",
    "version": 3
   },
   "file_extension": ".py",
   "mimetype": "text/x-python",
   "name": "python",
   "nbconvert_exporter": "python",
   "pygments_lexer": "ipython3",
   "version": "3.8.9"
  }
 },
 "nbformat": 4,
 "nbformat_minor": 1
}
